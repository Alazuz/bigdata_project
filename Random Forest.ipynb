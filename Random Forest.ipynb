{
 "cells": [
  {
   "cell_type": "code",
   "execution_count": 2,
   "id": "de0618ba",
   "metadata": {},
   "outputs": [
    {
     "name": "stderr",
     "output_type": "stream",
     "text": [
      "<>:18: SyntaxWarning: invalid escape sequence '\\d'\n",
      "<>:18: SyntaxWarning: invalid escape sequence '\\d'\n",
      "C:\\Users\\HOME\\AppData\\Local\\Temp\\ipykernel_11276\\1741883237.py:18: SyntaxWarning: invalid escape sequence '\\d'\n",
      "  data = pd.read_csv('data\\df.csv',sep='|')\n",
      "[*********************100%***********************]  1 of 1 completed"
     ]
    },
    {
     "name": "stdout",
     "output_type": "stream",
     "text": [
      "Index(['date_x', 'close', 'volume', 'high', 'low', 'pe',\n",
      "       'num_daily_adv_minus_decl', 'mov_avg_20d', 'best_eps', 'dvd_sh_last',\n",
      "       'rsi_3d', 'rsi_9d', 'rsi_14d', 'rsi_30d', 'mov_avg_10d', 'mov_avg_30d',\n",
      "       'mov_avg_50d', 'pb', 'pib_pct', 'pib', 'vix', 'i', 'i_future',\n",
      "       'inflation', 'gold', 'gold_pct', 'gold_volume', 'brent', 'brent_pct',\n",
      "       'brent_volume', 'cible', 'returns', 'vol', 'score', 'momentum_10d',\n",
      "       'macd', 'macd_signal', 'bb_upper', 'bb_lower', 'mov_avg_100d',\n",
      "       'mov_avg_200d', 'mov_avg_10_50_diff', 'mov_avg_20_50_diff',\n",
      "       'close_minus_10d', 'close_minus_20d', 'close_minus_30d',\n",
      "       'close_minus_50d', 'close_minus_100d', 'close_minus_200d', 'DXY',\n",
      "       'EIA/GDPQXUS/USA', 'CroissM'],\n",
      "      dtype='object')\n"
     ]
    },
    {
     "name": "stderr",
     "output_type": "stream",
     "text": [
      "\n"
     ]
    }
   ],
   "source": [
    "import pandas as pd\n",
    "import numpy as np\n",
    "import matplotlib.pyplot as plt\n",
    "from statsmodels.tsa.arima.model import ARIMA\n",
    "from statsmodels.tsa.stattools import adfuller\n",
    "from statsmodels.graphics.tsaplots import plot_acf, plot_pacf\n",
    "from statsmodels.stats.diagnostic import acorr_ljungbox\n",
    "import yfinance\n",
    "import warnings\n",
    "from sklearn.ensemble import RandomForestRegressor\n",
    "from sklearn.model_selection import TimeSeriesSplit\n",
    "from sklearn.metrics import mean_squared_error, mean_absolute_error, r2_score\n",
    "from sklearn.tree import export_graphviz\n",
    "import vectorbt as vbt\n",
    "import anywidget\n",
    "warnings.filterwarnings('ignore')\n",
    "\n",
    "data = pd.read_csv('data\\df.csv',sep='|')\n",
    "data['date'] = pd.to_datetime(data['date'])\n",
    "\n",
    "DXY = yfinance.download('DX-Y.NYB', start='1999-01-04', end='2025-09-19')\n",
    "DXY = DXY.reset_index()[['Date','Close']]\n",
    "DXY.columns = ['date','DXY']\n",
    "data=data.merge(DXY, on='date', how='left')\n",
    "\n",
    "GDPM = pd.read_csv('GDP Monthly.csv',sep=',')\n",
    "GDPM['date'] = pd.to_datetime(GDPM['timestamp'])\n",
    "GDPM['year'] = GDPM['date'].dt.year\n",
    "GDPM['month'] = GDPM['date'].dt.month\n",
    "GDPM['CroissM'] = GDPM['EIA/GDPQXUS/USA'].diff()\n",
    "\n",
    "data['year'] = data['date'].dt.year\n",
    "data['month'] = data['date'].dt.month\n",
    "\n",
    "data = data.merge(GDPM, on=['year', 'month'], how='left')\n",
    "data.drop(['timestamp','date_y','year','month'], axis=1, inplace=True)\n",
    "data['DXY'].fillna(method='ffill', inplace=True)\n",
    "print(data.columns)\n",
    "data.set_index('date_x', inplace=True)"
   ]
  },
  {
   "cell_type": "code",
   "execution_count": null,
   "id": "9328e4c5",
   "metadata": {},
   "outputs": [
    {
     "name": "stdout",
     "output_type": "stream",
     "text": [
      "Date 2025-01-02 : entraînement modèle, prédiction et backtesting...\n",
      "Date 2025-01-03 : entraînement modèle, prédiction et backtesting...\n",
      "Date 2025-01-06 : entraînement modèle, prédiction et backtesting...\n",
      "Date 2025-01-07 : entraînement modèle, prédiction et backtesting...\n",
      "Date 2025-01-08 : entraînement modèle, prédiction et backtesting...\n",
      "Date 2025-01-10 : entraînement modèle, prédiction et backtesting...\n",
      "Date 2025-01-13 : entraînement modèle, prédiction et backtesting...\n",
      "Date 2025-01-14 : entraînement modèle, prédiction et backtesting...\n",
      "Date 2025-01-15 : entraînement modèle, prédiction et backtesting...\n",
      "Date 2025-01-16 : entraînement modèle, prédiction et backtesting...\n",
      "Date 2025-01-17 : entraînement modèle, prédiction et backtesting...\n",
      "Date 2025-01-21 : entraînement modèle, prédiction et backtesting...\n",
      "Date 2025-01-22 : entraînement modèle, prédiction et backtesting...\n",
      "Date 2025-01-23 : entraînement modèle, prédiction et backtesting...\n",
      "Date 2025-01-24 : entraînement modèle, prédiction et backtesting...\n",
      "Date 2025-01-27 : entraînement modèle, prédiction et backtesting...\n",
      "Date 2025-01-28 : entraînement modèle, prédiction et backtesting...\n",
      "Date 2025-01-29 : entraînement modèle, prédiction et backtesting...\n",
      "Date 2025-01-30 : entraînement modèle, prédiction et backtesting...\n",
      "Date 2025-01-31 : entraînement modèle, prédiction et backtesting...\n",
      "Date 2025-02-03 : entraînement modèle, prédiction et backtesting...\n",
      "Date 2025-02-04 : entraînement modèle, prédiction et backtesting...\n",
      "Date 2025-02-05 : entraînement modèle, prédiction et backtesting...\n",
      "Date 2025-02-06 : entraînement modèle, prédiction et backtesting...\n",
      "Date 2025-02-07 : entraînement modèle, prédiction et backtesting...\n",
      "Date 2025-02-10 : entraînement modèle, prédiction et backtesting...\n",
      "Date 2025-02-11 : entraînement modèle, prédiction et backtesting...\n",
      "Date 2025-02-12 : entraînement modèle, prédiction et backtesting...\n",
      "Date 2025-02-13 : entraînement modèle, prédiction et backtesting...\n",
      "Date 2025-02-14 : entraînement modèle, prédiction et backtesting...\n",
      "Date 2025-02-18 : entraînement modèle, prédiction et backtesting...\n",
      "Date 2025-02-19 : entraînement modèle, prédiction et backtesting...\n",
      "Date 2025-02-20 : entraînement modèle, prédiction et backtesting...\n",
      "Date 2025-02-21 : entraînement modèle, prédiction et backtesting...\n",
      "Date 2025-02-24 : entraînement modèle, prédiction et backtesting...\n",
      "Date 2025-02-25 : entraînement modèle, prédiction et backtesting...\n",
      "Date 2025-02-26 : entraînement modèle, prédiction et backtesting...\n",
      "Date 2025-02-27 : entraînement modèle, prédiction et backtesting...\n",
      "Date 2025-02-28 : entraînement modèle, prédiction et backtesting...\n",
      "Date 2025-03-03 : entraînement modèle, prédiction et backtesting...\n",
      "Date 2025-03-04 : entraînement modèle, prédiction et backtesting...\n",
      "Date 2025-03-05 : entraînement modèle, prédiction et backtesting...\n",
      "Date 2025-03-06 : entraînement modèle, prédiction et backtesting...\n",
      "Date 2025-03-07 : entraînement modèle, prédiction et backtesting...\n",
      "Date 2025-03-10 : entraînement modèle, prédiction et backtesting...\n",
      "Date 2025-03-11 : entraînement modèle, prédiction et backtesting...\n",
      "Date 2025-03-12 : entraînement modèle, prédiction et backtesting...\n",
      "Date 2025-03-13 : entraînement modèle, prédiction et backtesting...\n",
      "Date 2025-03-14 : entraînement modèle, prédiction et backtesting...\n",
      "Date 2025-03-17 : entraînement modèle, prédiction et backtesting...\n",
      "Date 2025-03-18 : entraînement modèle, prédiction et backtesting...\n",
      "Date 2025-03-19 : entraînement modèle, prédiction et backtesting...\n",
      "Date 2025-03-20 : entraînement modèle, prédiction et backtesting...\n",
      "Date 2025-03-21 : entraînement modèle, prédiction et backtesting...\n",
      "Date 2025-03-24 : entraînement modèle, prédiction et backtesting...\n",
      "Date 2025-03-25 : entraînement modèle, prédiction et backtesting...\n",
      "Date 2025-03-26 : entraînement modèle, prédiction et backtesting...\n",
      "Date 2025-03-27 : entraînement modèle, prédiction et backtesting...\n",
      "Date 2025-03-28 : entraînement modèle, prédiction et backtesting...\n",
      "Date 2025-03-31 : entraînement modèle, prédiction et backtesting...\n",
      "Date 2025-04-01 : entraînement modèle, prédiction et backtesting...\n",
      "Date 2025-04-02 : entraînement modèle, prédiction et backtesting...\n",
      "Date 2025-04-03 : entraînement modèle, prédiction et backtesting...\n",
      "Date 2025-04-04 : entraînement modèle, prédiction et backtesting...\n",
      "Date 2025-04-07 : entraînement modèle, prédiction et backtesting...\n",
      "Date 2025-04-08 : entraînement modèle, prédiction et backtesting...\n",
      "Date 2025-04-09 : entraînement modèle, prédiction et backtesting...\n",
      "Date 2025-04-10 : entraînement modèle, prédiction et backtesting...\n",
      "Date 2025-04-11 : entraînement modèle, prédiction et backtesting...\n",
      "Date 2025-04-14 : entraînement modèle, prédiction et backtesting...\n",
      "Date 2025-04-15 : entraînement modèle, prédiction et backtesting...\n",
      "Date 2025-04-16 : entraînement modèle, prédiction et backtesting...\n",
      "Date 2025-04-17 : entraînement modèle, prédiction et backtesting...\n",
      "Date 2025-04-21 : entraînement modèle, prédiction et backtesting...\n",
      "Date 2025-04-22 : entraînement modèle, prédiction et backtesting...\n",
      "Date 2025-04-23 : entraînement modèle, prédiction et backtesting...\n",
      "Date 2025-04-24 : entraînement modèle, prédiction et backtesting...\n",
      "Date 2025-04-25 : entraînement modèle, prédiction et backtesting...\n",
      "Date 2025-04-28 : entraînement modèle, prédiction et backtesting...\n",
      "Date 2025-04-29 : entraînement modèle, prédiction et backtesting...\n",
      "Date 2025-04-30 : entraînement modèle, prédiction et backtesting...\n",
      "Date 2025-05-01 : entraînement modèle, prédiction et backtesting...\n",
      "Date 2025-05-02 : entraînement modèle, prédiction et backtesting...\n",
      "Date 2025-05-05 : entraînement modèle, prédiction et backtesting...\n",
      "Date 2025-05-06 : entraînement modèle, prédiction et backtesting...\n",
      "Date 2025-05-07 : entraînement modèle, prédiction et backtesting...\n",
      "Date 2025-05-08 : entraînement modèle, prédiction et backtesting...\n",
      "Date 2025-05-09 : entraînement modèle, prédiction et backtesting...\n",
      "Date 2025-05-12 : entraînement modèle, prédiction et backtesting...\n",
      "Date 2025-05-13 : entraînement modèle, prédiction et backtesting...\n",
      "Date 2025-05-14 : entraînement modèle, prédiction et backtesting...\n",
      "Date 2025-05-15 : entraînement modèle, prédiction et backtesting...\n",
      "Date 2025-05-16 : entraînement modèle, prédiction et backtesting...\n",
      "Date 2025-05-19 : entraînement modèle, prédiction et backtesting...\n",
      "Date 2025-05-20 : entraînement modèle, prédiction et backtesting...\n",
      "Date 2025-05-21 : entraînement modèle, prédiction et backtesting...\n",
      "Date 2025-05-22 : entraînement modèle, prédiction et backtesting...\n",
      "Date 2025-05-23 : entraînement modèle, prédiction et backtesting...\n",
      "Date 2025-05-27 : entraînement modèle, prédiction et backtesting...\n",
      "Date 2025-05-28 : entraînement modèle, prédiction et backtesting...\n",
      "Date 2025-05-29 : entraînement modèle, prédiction et backtesting...\n",
      "Date 2025-05-30 : entraînement modèle, prédiction et backtesting...\n",
      "Date 2025-06-02 : entraînement modèle, prédiction et backtesting...\n",
      "Date 2025-06-03 : entraînement modèle, prédiction et backtesting...\n",
      "Date 2025-06-04 : entraînement modèle, prédiction et backtesting...\n",
      "Date 2025-06-05 : entraînement modèle, prédiction et backtesting...\n",
      "Date 2025-06-06 : entraînement modèle, prédiction et backtesting...\n",
      "Date 2025-06-09 : entraînement modèle, prédiction et backtesting...\n",
      "Date 2025-06-10 : entraînement modèle, prédiction et backtesting...\n",
      "Date 2025-06-11 : entraînement modèle, prédiction et backtesting...\n",
      "Date 2025-06-12 : entraînement modèle, prédiction et backtesting...\n",
      "Date 2025-06-13 : entraînement modèle, prédiction et backtesting...\n",
      "Date 2025-06-16 : entraînement modèle, prédiction et backtesting...\n",
      "Date 2025-06-17 : entraînement modèle, prédiction et backtesting...\n",
      "Date 2025-06-18 : entraînement modèle, prédiction et backtesting...\n",
      "Date 2025-06-20 : entraînement modèle, prédiction et backtesting...\n",
      "Date 2025-06-23 : entraînement modèle, prédiction et backtesting...\n",
      "Date 2025-06-24 : entraînement modèle, prédiction et backtesting...\n",
      "Date 2025-06-25 : entraînement modèle, prédiction et backtesting...\n",
      "Date 2025-06-26 : entraînement modèle, prédiction et backtesting...\n",
      "Date 2025-06-27 : entraînement modèle, prédiction et backtesting...\n",
      "Date 2025-06-30 : entraînement modèle, prédiction et backtesting...\n",
      "Date 2025-07-01 : entraînement modèle, prédiction et backtesting...\n",
      "Date 2025-07-02 : entraînement modèle, prédiction et backtesting...\n",
      "Date 2025-07-03 : entraînement modèle, prédiction et backtesting...\n",
      "Date 2025-07-07 : entraînement modèle, prédiction et backtesting...\n",
      "Date 2025-07-08 : entraînement modèle, prédiction et backtesting...\n",
      "Date 2025-07-09 : entraînement modèle, prédiction et backtesting...\n",
      "Date 2025-07-10 : entraînement modèle, prédiction et backtesting...\n",
      "Date 2025-07-11 : entraînement modèle, prédiction et backtesting...\n",
      "Date 2025-07-14 : entraînement modèle, prédiction et backtesting...\n",
      "Date 2025-07-15 : entraînement modèle, prédiction et backtesting...\n",
      "Date 2025-07-16 : entraînement modèle, prédiction et backtesting...\n",
      "Date 2025-07-17 : entraînement modèle, prédiction et backtesting...\n",
      "Date 2025-07-18 : entraînement modèle, prédiction et backtesting...\n",
      "Date 2025-07-21 : entraînement modèle, prédiction et backtesting...\n",
      "Date 2025-07-22 : entraînement modèle, prédiction et backtesting...\n",
      "Date 2025-07-23 : entraînement modèle, prédiction et backtesting...\n",
      "Date 2025-07-24 : entraînement modèle, prédiction et backtesting...\n",
      "Date 2025-07-25 : entraînement modèle, prédiction et backtesting...\n",
      "Date 2025-07-28 : entraînement modèle, prédiction et backtesting...\n",
      "Date 2025-07-29 : entraînement modèle, prédiction et backtesting...\n",
      "Date 2025-07-30 : entraînement modèle, prédiction et backtesting...\n",
      "Date 2025-07-31 : entraînement modèle, prédiction et backtesting...\n",
      "Date 2025-08-01 : entraînement modèle, prédiction et backtesting...\n",
      "Date 2025-08-04 : entraînement modèle, prédiction et backtesting...\n",
      "Date 2025-08-05 : entraînement modèle, prédiction et backtesting...\n",
      "Date 2025-08-06 : entraînement modèle, prédiction et backtesting...\n",
      "Date 2025-08-07 : entraînement modèle, prédiction et backtesting...\n",
      "Date 2025-08-08 : entraînement modèle, prédiction et backtesting...\n",
      "Date 2025-08-11 : entraînement modèle, prédiction et backtesting...\n",
      "Date 2025-08-12 : entraînement modèle, prédiction et backtesting...\n",
      "Date 2025-08-13 : entraînement modèle, prédiction et backtesting...\n",
      "Date 2025-08-14 : entraînement modèle, prédiction et backtesting...\n",
      "Date 2025-08-15 : entraînement modèle, prédiction et backtesting...\n",
      "Date 2025-08-18 : entraînement modèle, prédiction et backtesting...\n",
      "Date 2025-08-19 : entraînement modèle, prédiction et backtesting...\n",
      "Date 2025-08-20 : entraînement modèle, prédiction et backtesting...\n",
      "Date 2025-08-21 : entraînement modèle, prédiction et backtesting...\n",
      "Date 2025-08-22 : entraînement modèle, prédiction et backtesting...\n",
      "Date 2025-08-25 : entraînement modèle, prédiction et backtesting...\n",
      "Date 2025-08-26 : entraînement modèle, prédiction et backtesting...\n",
      "Date 2025-08-27 : entraînement modèle, prédiction et backtesting...\n",
      "Date 2025-08-28 : entraînement modèle, prédiction et backtesting...\n",
      "Date 2025-08-29 : entraînement modèle, prédiction et backtesting...\n",
      "Date 2025-09-02 : entraînement modèle, prédiction et backtesting...\n",
      "Date 2025-09-03 : entraînement modèle, prédiction et backtesting...\n",
      "Date 2025-09-04 : entraînement modèle, prédiction et backtesting...\n",
      "Date 2025-09-05 : entraînement modèle, prédiction et backtesting...\n",
      "Date 2025-09-08 : entraînement modèle, prédiction et backtesting...\n",
      "Date 2025-09-09 : entraînement modèle, prédiction et backtesting...\n",
      "Date 2025-09-10 : entraînement modèle, prédiction et backtesting...\n",
      "Date 2025-09-11 : entraînement modèle, prédiction et backtesting...\n",
      "Date 2025-09-12 : entraînement modèle, prédiction et backtesting...\n",
      "Date 2025-09-15 : entraînement modèle, prédiction et backtesting...\n",
      "Date 2025-09-16 : entraînement modèle, prédiction et backtesting...\n",
      "Date 2025-09-17 : entraînement modèle, prédiction et backtesting...\n",
      "Date 2025-09-18 : entraînement modèle, prédiction et backtesting...\n"
     ]
    },
    {
     "data": {
      "application/vnd.plotly.v1+json": {
       "config": {
        "plotlyServerURL": "https://plot.ly"
       },
       "data": [
        {
         "legendgroup": "0",
         "line": {
          "color": "#1f77b4"
         },
         "name": "Close",
         "showlegend": true,
         "type": "scatter",
         "uid": "d934f40d-a7bc-4e01-9db0-3ce3845ef77c",
         "x": [
          "2025-01-02T00:00:00.000000000",
          "2025-01-03T00:00:00.000000000",
          "2025-01-06T00:00:00.000000000",
          "2025-01-07T00:00:00.000000000",
          "2025-01-08T00:00:00.000000000",
          "2025-01-10T00:00:00.000000000",
          "2025-01-13T00:00:00.000000000",
          "2025-01-14T00:00:00.000000000",
          "2025-01-15T00:00:00.000000000",
          "2025-01-16T00:00:00.000000000",
          "2025-01-17T00:00:00.000000000",
          "2025-01-21T00:00:00.000000000",
          "2025-01-22T00:00:00.000000000",
          "2025-01-23T00:00:00.000000000",
          "2025-01-24T00:00:00.000000000",
          "2025-01-27T00:00:00.000000000",
          "2025-01-28T00:00:00.000000000",
          "2025-01-29T00:00:00.000000000",
          "2025-01-30T00:00:00.000000000",
          "2025-01-31T00:00:00.000000000",
          "2025-02-03T00:00:00.000000000",
          "2025-02-04T00:00:00.000000000",
          "2025-02-05T00:00:00.000000000",
          "2025-02-06T00:00:00.000000000",
          "2025-02-07T00:00:00.000000000",
          "2025-02-10T00:00:00.000000000",
          "2025-02-11T00:00:00.000000000",
          "2025-02-12T00:00:00.000000000",
          "2025-02-13T00:00:00.000000000",
          "2025-02-14T00:00:00.000000000",
          "2025-02-18T00:00:00.000000000",
          "2025-02-19T00:00:00.000000000",
          "2025-02-20T00:00:00.000000000",
          "2025-02-21T00:00:00.000000000",
          "2025-02-24T00:00:00.000000000",
          "2025-02-25T00:00:00.000000000",
          "2025-02-26T00:00:00.000000000",
          "2025-02-27T00:00:00.000000000",
          "2025-02-28T00:00:00.000000000",
          "2025-03-03T00:00:00.000000000",
          "2025-03-04T00:00:00.000000000",
          "2025-03-05T00:00:00.000000000",
          "2025-03-06T00:00:00.000000000",
          "2025-03-07T00:00:00.000000000",
          "2025-03-10T00:00:00.000000000",
          "2025-03-11T00:00:00.000000000",
          "2025-03-12T00:00:00.000000000",
          "2025-03-13T00:00:00.000000000",
          "2025-03-14T00:00:00.000000000",
          "2025-03-17T00:00:00.000000000",
          "2025-03-18T00:00:00.000000000",
          "2025-03-19T00:00:00.000000000",
          "2025-03-20T00:00:00.000000000",
          "2025-03-21T00:00:00.000000000",
          "2025-03-24T00:00:00.000000000",
          "2025-03-25T00:00:00.000000000",
          "2025-03-26T00:00:00.000000000",
          "2025-03-27T00:00:00.000000000",
          "2025-03-28T00:00:00.000000000",
          "2025-03-31T00:00:00.000000000",
          "2025-04-01T00:00:00.000000000",
          "2025-04-02T00:00:00.000000000",
          "2025-04-03T00:00:00.000000000",
          "2025-04-04T00:00:00.000000000",
          "2025-04-07T00:00:00.000000000",
          "2025-04-08T00:00:00.000000000",
          "2025-04-09T00:00:00.000000000",
          "2025-04-10T00:00:00.000000000",
          "2025-04-11T00:00:00.000000000",
          "2025-04-14T00:00:00.000000000",
          "2025-04-15T00:00:00.000000000",
          "2025-04-16T00:00:00.000000000",
          "2025-04-17T00:00:00.000000000",
          "2025-04-21T00:00:00.000000000",
          "2025-04-22T00:00:00.000000000",
          "2025-04-23T00:00:00.000000000",
          "2025-04-24T00:00:00.000000000",
          "2025-04-25T00:00:00.000000000",
          "2025-04-28T00:00:00.000000000",
          "2025-04-29T00:00:00.000000000",
          "2025-04-30T00:00:00.000000000",
          "2025-05-01T00:00:00.000000000",
          "2025-05-02T00:00:00.000000000",
          "2025-05-05T00:00:00.000000000",
          "2025-05-06T00:00:00.000000000",
          "2025-05-07T00:00:00.000000000",
          "2025-05-08T00:00:00.000000000",
          "2025-05-09T00:00:00.000000000",
          "2025-05-12T00:00:00.000000000",
          "2025-05-13T00:00:00.000000000",
          "2025-05-14T00:00:00.000000000",
          "2025-05-15T00:00:00.000000000",
          "2025-05-16T00:00:00.000000000",
          "2025-05-19T00:00:00.000000000",
          "2025-05-20T00:00:00.000000000",
          "2025-05-21T00:00:00.000000000",
          "2025-05-22T00:00:00.000000000",
          "2025-05-23T00:00:00.000000000",
          "2025-05-27T00:00:00.000000000",
          "2025-05-28T00:00:00.000000000",
          "2025-05-29T00:00:00.000000000",
          "2025-05-30T00:00:00.000000000",
          "2025-06-02T00:00:00.000000000",
          "2025-06-03T00:00:00.000000000",
          "2025-06-04T00:00:00.000000000",
          "2025-06-05T00:00:00.000000000",
          "2025-06-06T00:00:00.000000000",
          "2025-06-09T00:00:00.000000000",
          "2025-06-10T00:00:00.000000000",
          "2025-06-11T00:00:00.000000000",
          "2025-06-12T00:00:00.000000000",
          "2025-06-13T00:00:00.000000000",
          "2025-06-16T00:00:00.000000000",
          "2025-06-17T00:00:00.000000000",
          "2025-06-18T00:00:00.000000000",
          "2025-06-20T00:00:00.000000000",
          "2025-06-23T00:00:00.000000000",
          "2025-06-24T00:00:00.000000000",
          "2025-06-25T00:00:00.000000000",
          "2025-06-26T00:00:00.000000000",
          "2025-06-27T00:00:00.000000000",
          "2025-06-30T00:00:00.000000000",
          "2025-07-01T00:00:00.000000000",
          "2025-07-02T00:00:00.000000000",
          "2025-07-03T00:00:00.000000000",
          "2025-07-07T00:00:00.000000000",
          "2025-07-08T00:00:00.000000000",
          "2025-07-09T00:00:00.000000000",
          "2025-07-10T00:00:00.000000000",
          "2025-07-11T00:00:00.000000000",
          "2025-07-14T00:00:00.000000000",
          "2025-07-15T00:00:00.000000000",
          "2025-07-16T00:00:00.000000000",
          "2025-07-17T00:00:00.000000000",
          "2025-07-18T00:00:00.000000000",
          "2025-07-21T00:00:00.000000000",
          "2025-07-22T00:00:00.000000000",
          "2025-07-23T00:00:00.000000000",
          "2025-07-24T00:00:00.000000000",
          "2025-07-25T00:00:00.000000000",
          "2025-07-28T00:00:00.000000000",
          "2025-07-29T00:00:00.000000000",
          "2025-07-30T00:00:00.000000000",
          "2025-07-31T00:00:00.000000000",
          "2025-08-01T00:00:00.000000000",
          "2025-08-04T00:00:00.000000000",
          "2025-08-05T00:00:00.000000000",
          "2025-08-06T00:00:00.000000000",
          "2025-08-07T00:00:00.000000000",
          "2025-08-08T00:00:00.000000000",
          "2025-08-11T00:00:00.000000000",
          "2025-08-12T00:00:00.000000000",
          "2025-08-13T00:00:00.000000000",
          "2025-08-14T00:00:00.000000000",
          "2025-08-15T00:00:00.000000000",
          "2025-08-18T00:00:00.000000000",
          "2025-08-19T00:00:00.000000000",
          "2025-08-20T00:00:00.000000000",
          "2025-08-21T00:00:00.000000000",
          "2025-08-22T00:00:00.000000000",
          "2025-08-25T00:00:00.000000000",
          "2025-08-26T00:00:00.000000000",
          "2025-08-27T00:00:00.000000000",
          "2025-08-28T00:00:00.000000000",
          "2025-08-29T00:00:00.000000000",
          "2025-09-02T00:00:00.000000000",
          "2025-09-03T00:00:00.000000000",
          "2025-09-04T00:00:00.000000000",
          "2025-09-05T00:00:00.000000000",
          "2025-09-08T00:00:00.000000000",
          "2025-09-09T00:00:00.000000000",
          "2025-09-10T00:00:00.000000000",
          "2025-09-11T00:00:00.000000000",
          "2025-09-12T00:00:00.000000000",
          "2025-09-15T00:00:00.000000000",
          "2025-09-16T00:00:00.000000000",
          "2025-09-17T00:00:00.000000000",
          "2025-09-18T00:00:00.000000000"
         ],
         "xaxis": "x",
         "y": {
          "bdata": "exSuR2FXt0DhehSuBxW3QAAAAABAHrdA16NwPQrDtkAfhetROMy2QFyPwvXo0rZAXI/C9eg9t0CkcD0KVzG3QFyPwvWobLdACtejcD2ht0CF61G4Xsa3QClcj8K15rdACtejcD3Vt0DhehSuR3y3QDMzMzOzs7dAw/UoXE+Xt0BSuB6FK7e3QOF6FK6HmLdAuB6F65Fqt0B7FK5H4ZW3QBSuR+F6rbdAuB6F65HDt0AK16Nw/Ym3QD0K16NwsrdAAAAAAIC0t0AfhetR+KO3QLgehesR47dAexSuR6Hit0CuR+F6lPG3QGZmZmYmALhA7FG4HoXlt0B7FK5HIX23QAAAAABAX7dAAAAAAEBDt0DD9ShcD0S3QLgeheuR5bZAAAAAAIBCt0AfhetRuNm2QGZmZmYmkrZAexSuR6HStkDsUbgehWq2QDMzMzMzirZAw/UoXI/utUC4HoXrEcS1QM3MzMxM37VA7FG4HoWRtUA9Ctej8Aa2QIXrUbgeK7ZAXI/C9ajutUDXo3A9Siu2QHE9CtfjHrZAw/UoXI8jtkC4HoXrkYe2QGZmZmamkLZAMzMzMzNQtkDD9ShcTz22QD0K16PwzLVAmpmZmdnrtUC4HoXrEQG2QB+F61H4JrZA7FG4HoUUtUCuR+F6FNKzQAAAAABAxrNA7FG4HsV2s0BmZmZm5lC1QM3MzMwMlLRAj8L1KFzztEAfhetR+B21QHsUrkehFLVAMzMzM7ObtEAzMzMzs6K0QDMzMzMzJrRA9ihcj8KntECPwvUo3P+0QOxRuB7FbLVAKVyPwjWVtUAAAAAAwJi1QK5H4XrUuLVAw/UoXA/BtUBxPQrXI+S1QFK4HoWrNrZAexSuR2EStkBcj8L16Oa1QOF6FK5H/7VAPQrXo/AftkBcj8L16Bu2QD0K16Mw1LZAzczMzIz+tkCuR+F6lAS3QEjhehTuHLdAexSuR2FGt0CamZmZmUu3QClcj8J1NLdAj8L1KJzUtkD2KFyPAtK2QLgehevRqrZA16NwPYoht0DNzMzMjAC3QFK4HoUrGLdAPQrXo7AXt0A9Ctej8C+3QIXrUbheUrdAw/UoXM9St0DNzMzMTDO3QI/C9ShccLdAexSuR+F1t0DD9Shcz5a3QArXo3A9hrdA9ihcj0Kdt0AfhetR+Fi3QI/C9SgckbdAH4XrUbhet0CF61G43ly3QKRwPQrXT7dAUrgehSuJt0BI4XoULsy3QFyPwvUozLdA7FG4HgX9t0C4HoXrER24QDMzMzPzPLhA9ihcjwI2uEBSuB6Fa1O4QJqZmZlZh7hAFK5H4fpVuEDsUbgehVG4QPYoXI9Cd7hAKVyPwnWIuEAAAAAAwHO4QMP1KFyPfLhA9ihcj8JjuEAzMzMzs3e4QI/C9ShcmbhA16NwPcqYuECamZmZmaG4QIXrUbiepbhAXI/C9ejWuECamZmZWdu4QHE9Ctej9LhA7FG4HsX1uECPwvUo3OK4QGZmZmbm2rhAcT0K12PDuED2KFyPAl64QD0K16PwubhAPQrXozCbuEDD9ShcD8m4QAAAAAAAxLhAMzMzM3P1uEAzMzMzc+W4QPYoXI/CLblArkfhepRCuUDXo3A9ikS5QM3MzMzMMblAZmZmZiYxuUCF61G4Xgu5QOF6FK7H+7hAUrgehSviuEBcj8L16EK5QLgehetRJ7lAPQrXo/BBuUBmZmZmZlG5QI/C9SjcZblA9ihcj0I8uUDXo3A9ig+5QPYoXI9CMLlArkfhehRmuUAAAAAAgFG5QGZmZmYmX7lAj8L1KJxwuUDXo3A9CoS5QB+F61F4u7lA16NwPUq4uUDhehSuR9e5QPYoXI/CzrlAmpmZmVnIuUApXI/C9ee5QI/C9ShcCLpAAAAAAMAlukA=",
          "dtype": "f8"
         },
         "yaxis": "y"
        },
        {
         "customdata": {
          "bdata": "AAAAAAAA8D+zdJQsVFShPwAAAAAAAAAAAAAAAAAACECrA2aPDlehPwAAAAAAAAAAAAAAAAAAFED+JPhGHF6hPwAAAAAAAAAAAAAAAAAAHEDeafabN6ahPwAAAAAAAAAAAAAAAAAAIkBYyRn2/wmiPwAAAAAAAAAAAAAAAAAAJkA2m3lNlW+iPwAAAAAAAAAAAAAAAAAAKkApW7L6RmWiPwAAAAAAAAAAAAAAAAAALkCOjbeduxOjPwAAAAAAAAAAAAAAAAAAMUCTq4/emI+kPwAAAAAAAAAAAAAAAAAAM0Bgr1xE0gikPwAAAAAAAAAAAAAAAAAANUDB4PNHcNihPwAAAAAAAAAAAAAAAAAAN0Ajr/e+s9CgPwAAAAAAAAAAAAAAAAAAOUDLZJ/NMrSgPwAAAAAAAAAAAAAAAAAAO0Dkcvf/SNWgPwAAAAAAAAAAAAAAAAAAPUB1rrSNByyhPwAAAAAAAAAAAAAAAAAAP0AYLkDKvWagPwAAAAAAAAAAAAAAAACAQEBv2VXkeB2fPwAAAAAAAAAAAAAAAACAQUBQoyxCYvGePwAAAAAAAAAAAAAAAACAQkD4lcqCL8CePwAAAAAAAAAAAAAAAACAQ0DlB6XL4B+fPwAAAAAAAAAA",
          "dtype": "f8",
          "shape": "20, 3"
         },
         "hovertemplate": "Order Id: %{customdata[0]}<br>Timestamp: %{x}<br>Price: %{y}<br>Size: %{customdata[1]:.6f}<br>Fees: %{customdata[2]:.6f}",
         "legendgroup": "1",
         "marker": {
          "color": "#37B13F",
          "line": {
           "color": "rgb(38,123,44)",
           "width": 1
          },
          "size": 8,
          "symbol": "triangle-up"
         },
         "mode": "markers",
         "name": "Buy",
         "type": "scatter",
         "uid": "40cc941c-a470-4e23-9782-4cfccc86ddcc",
         "x": [
          "2025-01-03T00:00:00.000000000",
          "2025-01-23T00:00:00.000000000",
          "2025-01-30T00:00:00.000000000",
          "2025-02-19T00:00:00.000000000",
          "2025-02-27T00:00:00.000000000",
          "2025-03-14T00:00:00.000000000",
          "2025-03-24T00:00:00.000000000",
          "2025-04-01T00:00:00.000000000",
          "2025-04-14T00:00:00.000000000",
          "2025-05-02T00:00:00.000000000",
          "2025-05-16T00:00:00.000000000",
          "2025-06-03T00:00:00.000000000",
          "2025-06-09T00:00:00.000000000",
          "2025-06-11T00:00:00.000000000",
          "2025-06-16T00:00:00.000000000",
          "2025-07-28T00:00:00.000000000",
          "2025-08-01T00:00:00.000000000",
          "2025-08-15T00:00:00.000000000",
          "2025-08-21T00:00:00.000000000",
          "2025-08-28T00:00:00.000000000"
         ],
         "xaxis": "x",
         "y": {
          "bdata": "4XoUrgcVt0DhehSuR3y3QLgeheuRardAexSuRyF9t0AfhetRuNm2QFyPwvWo7rVAMzMzMzNQtkDsUbgehRS1QDMzMzOzm7RAXI/C9ejmtUApXI/CdTS3QM3MzMxMM7dACtejcD2Gt0AfhetR+Fi3QIXrUbjeXLdAZmZmZubauEA9CtejMJu4QIXrUbheC7lAuB6F61EnuUDXo3A9ig+5QA==",
          "dtype": "f8"
         },
         "yaxis": "y"
        },
        {
         "customdata": {
          "bdata": "AAAAAAAAAACjzSZ6ESORPwAAAAAAAAAAAAAAAAAAAEDDGwLfloWhPwAAAAAAAAAAAAAAAAAAEECT68k/hiihPwAAAAAAAAAAAAAAAAAAGEBpXiZOspOhPwAAAAAAAAAAAAAAAAAAIEBTdcbpvLihPwAAAAAAAAAAAAAAAAAAJEBdHW0CQ1uiPwAAAAAAAAAAAAAAAAAAKEAPGYaY54OiPwAAAAAAAAAAAAAAAAAALEBDnd5cpkaiPwAAAAAAAAAAAAAAAAAAMEDZfZDe0OCjPwAAAAAAAAAAAAAAAAAAMkBN2Y7eYD6lPwAAAAAAAAAAAAAAAAAANEBzhSqqQ9OiPwAAAAAAAAAAAAAAAAAANkAPPL3lnN2gPwAAAAAAAAAAAAAAAAAAOEA3IjKYysOgPwAAAAAAAAAAAAAAAAAAOkBfpwwDm6SgPwAAAAAAAAAAAAAAAAAAPEBpPuL89gWhPwAAAAAAAAAAAAAAAAAAPkCBHoceGFKhPwAAAAAAAAAAAAAAAAAAQEBee/LrxvaePwAAAAAAAAAAAAAAAAAAQUCAN7ncKkSfPwAAAAAAAAAAAAAAAAAAQkAgD6CnmZ6ePwAAAAAAAAAAAAAAAAAAQ0DQHPVdxeGePwAAAAAAAAAAAAAAAAAARED68lQ5/F2fPwAAAAAAAAAA",
          "dtype": "f8",
          "shape": "21, 3"
         },
         "hovertemplate": "Order Id: %{customdata[0]}<br>Timestamp: %{x}<br>Price: %{y}<br>Size: %{customdata[1]:.6f}<br>Fees: %{customdata[2]:.6f}",
         "legendgroup": "2",
         "marker": {
          "color": "#EA4335",
          "line": {
           "color": "rgb(181,31,18)",
           "width": 1
          },
          "size": 8,
          "symbol": "triangle-down"
         },
         "mode": "markers",
         "name": "Sell",
         "type": "scatter",
         "uid": "20d87d3a-7b0f-4a1b-9475-b335e652313d",
         "x": [
          "2025-01-02T00:00:00.000000000",
          "2025-01-13T00:00:00.000000000",
          "2025-01-24T00:00:00.000000000",
          "2025-01-31T00:00:00.000000000",
          "2025-02-26T00:00:00.000000000",
          "2025-03-12T00:00:00.000000000",
          "2025-03-17T00:00:00.000000000",
          "2025-03-28T00:00:00.000000000",
          "2025-04-07T00:00:00.000000000",
          "2025-04-17T00:00:00.000000000",
          "2025-05-05T00:00:00.000000000",
          "2025-05-22T00:00:00.000000000",
          "2025-06-04T00:00:00.000000000",
          "2025-06-10T00:00:00.000000000",
          "2025-06-12T00:00:00.000000000",
          "2025-06-18T00:00:00.000000000",
          "2025-07-31T00:00:00.000000000",
          "2025-08-04T00:00:00.000000000",
          "2025-08-20T00:00:00.000000000",
          "2025-08-22T00:00:00.000000000",
          "2025-08-29T00:00:00.000000000"
         ],
         "xaxis": "x",
         "y": {
          "bdata": "exSuR2FXt0Bcj8L16D23QDMzMzOzs7dAexSuR+GVt0AAAAAAgEK3QD0K16PwBrZA16NwPUortkC4HoXrEQG2QGZmZmbmULVA9ihcj8KntEDhehSuR/+1QNejcD2KIbdAj8L1KFxwt0D2KFyPQp23QI/C9SgckbdAUrgehSuJt0A9Ctej8Lm4QMP1KFwPybhAXI/C9ehCuUA9Ctej8EG5QPYoXI9CMLlA",
          "dtype": "f8"
         },
         "yaxis": "y"
        },
        {
         "customdata": {
          "bdata": "AAAAAAAAAAAAAAAAAAAAAMCgPOsnxPE/U5B2vKO9hj8AAAAAAADwPwAAAAAAAPA/AARLI1di5j/CsLzsSFZ8PwAAAAAAAAhAAAAAAAAACEAAJG+fTbftP+rUR0vI4II/AAAAAAAAEEAAAAAAAAAQQEDOmz0lm/M/L4QFD+auiD8AAAAAAAAUQAAAAAAAABRAALtU2A7K5z9Bsn3E05d9PwAAAAAAABhAAAAAAAAAGEAAWuPQdzDbPzzjMGI9ynA/AAAAAAAAIEAAAAAAAAAgQMDANpt9A/0/qST5neMEkj8AAAAAAAAkQAAAAAAAACRAADn2NCHb2z/sER5Z7qJxPwAAAAAAACZAAAAAAAAAJkCA4EquUYrxP1rW82GIHYY/AAAAAAAALEAAAAAAAAAsQCCAg58u4xBAb/zMMB6ApT8AAAAAAAAuQAAAAAAAAC5AwBOy0PrA8j8BV9XQGOqGPwAAAAAAADBAAAAAAAAAMEDgvnfh2iMMQLOF60RVAKE/AAAAAAAAMUAAAAAAAAAxQAAJy34tA9A/47WYcf25Yj8AAAAAAAAzQAAAAAAAADNAAEm0iles3D+BjZPqjc1xPwAAAAAAADdAAAAAAAAAN0AA3HJBRv3vP8xh4YsIDoU/AAAAAAAAOUAAAAAAAAA5QAD4Lzny8dc/Xbqn9FtQbz8AAAAAAAA6QAAAAAAAADpAwGGnADPC8T/g1VpbmCKHPwAAAAAAADtAAAAAAAAAO0AAhDYmgd3tP75JPGl9PIM/AAAAAAAAPEAAAAAAAAA8QADxyqVgyus/sOfLvr+7gT8AAAAAAAA9QAAAAAAAAD1AgEF2/XL65z+s3TnGv1Z+PwAAAAAAAEBAAAAAAAAAQEAAA7smI8HdPxO9OnbX5XM/AAAAAACAQEAAAAAAAIBAQABu4KO8aOY/+SzgF53TfT8AAAAAAIBBQAAAAAAAgEFAgGFtbG+S6j+oSeufxL2BPwAAAAAAAEJAAAAAAAAAQkAAKdjWV2baP+6xOmWTeXE/AAAAAACAQkAAAAAAAIBCQACzFPycsNk/RUoA+MnucD8AAAAAAABDQAAAAAAAAENAgAYxbctR6D9fweBAU+1/PwAAAAAAgENAAAAAAACAQ0AA3zB4VAngP6WuEArc43Q/",
          "dtype": "f8",
          "shape": "27, 4"
         },
         "hovertemplate": "Exit Trade Id: %{customdata[0]}<br>Position Id: %{customdata[1]}<br>Exit Timestamp: %{x}<br>PnL: %{customdata[2]:.6f}<br>Return: %{customdata[3]:.2%}",
         "legendgroup": "3",
         "marker": {
          "color": "#37B13F",
          "line": {
           "color": "rgb(38,123,44)",
           "width": 1
          },
          "opacity": {
           "bdata": "foADnZe66D8f3XlyBWLoPyGX83Wukug/fvxUb6nO6D8OBpyUgmjoPxJHhhleJug/zxBXI/xD6T8E2raOvSroP4i9EVghtOg/TfOKNDlI6z9OBo31YrzoP5G0r+9Gjuo/AAAAAAAA6D+PrmvBmSvoP/AUwCIsqeg/Do6Vm4Mg6D80GvS2qr7oPw1QLAJilug/tK+5wdqG6D9/MPvoXGzoPz4Vp0psNug/K98Wcrdp6D9m/0Se74boP7aABOnnKeg/mfD36hon6D9U5vhWkXToP1fpfZWMO+g/",
           "dtype": "f8"
          },
          "size": {
           "bdata": "GoyfNDogIECLNBxxyjseQEOct1qkVx9AcOC3hMNaIECoeONipGEeQJae5JTP3xxAsJtovPSwIUDD93/AUfkcQM5o3kBhDSBASvA/2aaSJ0BkUtv2dSUgQFB5wOVOdCVAAAAAAAAAHECaz549Vv4cQHjPtcrW2h9AVGfoYKq9HEBuTJ2VHCwgQPbSV7c7bR9ARNZlv6YSH0CRRbn5HXgeQD5RebN3PR1AKGuFGa5oHkB+fJJwIBMfQHuZ73lz9BxAfvtQBR3kHEDnlFZ7+qceQNB7Xr1eWx1A",
           "dtype": "f8"
          },
          "symbol": "circle"
         },
         "mode": "markers",
         "name": "Closed - Profit",
         "type": "scatter",
         "uid": "e893a596-94ca-49f6-af2a-66ad91650f73",
         "x": [
          "2025-01-03T00:00:00.000000000",
          "2025-01-13T00:00:00.000000000",
          "2025-01-24T00:00:00.000000000",
          "2025-01-30T00:00:00.000000000",
          "2025-01-31T00:00:00.000000000",
          "2025-02-19T00:00:00.000000000",
          "2025-02-27T00:00:00.000000000",
          "2025-03-14T00:00:00.000000000",
          "2025-03-17T00:00:00.000000000",
          "2025-04-01T00:00:00.000000000",
          "2025-04-07T00:00:00.000000000",
          "2025-04-14T00:00:00.000000000",
          "2025-04-17T00:00:00.000000000",
          "2025-05-05T00:00:00.000000000",
          "2025-06-04T00:00:00.000000000",
          "2025-06-10T00:00:00.000000000",
          "2025-06-11T00:00:00.000000000",
          "2025-06-12T00:00:00.000000000",
          "2025-06-16T00:00:00.000000000",
          "2025-06-18T00:00:00.000000000",
          "2025-08-01T00:00:00.000000000",
          "2025-08-04T00:00:00.000000000",
          "2025-08-20T00:00:00.000000000",
          "2025-08-21T00:00:00.000000000",
          "2025-08-22T00:00:00.000000000",
          "2025-08-28T00:00:00.000000000",
          "2025-08-29T00:00:00.000000000"
         ],
         "xaxis": "x2",
         "y": {
          "bdata": "U5B2vKO9hj/CsLzsSFZ8P+rUR0vI4II/L4QFD+auiD9Bsn3E05d9PzzjMGI9ynA/qST5neMEkj/sER5Z7qJxP1rW82GIHYY/b/zMMB6ApT8BV9XQGOqGP7OF60RVAKE/47WYcf25Yj+BjZPqjc1xP8xh4YsIDoU/Xbqn9FtQbz/g1VpbmCKHP75JPGl9PIM/sOfLvr+7gT+s3TnGv1Z+PxO9OnbX5XM/+SzgF53TfT+oSeufxL2BP+6xOmWTeXE/RUoA+MnucD9fweBAU+1/P6WuEArc43Q/",
          "dtype": "f8"
         },
         "yaxis": "y2"
        },
        {
         "customdata": {
          "bdata": "AAAAAAAAAEAAAAAAAAAAQADlINRYE/G/G+WV4Np3hb8AAAAAAAAcQAAAAAAAABxAQHI9yBM88L9gCFQZ+/eDvwAAAAAAACJAAAAAAAAAIkAAwyfJXDoOwM8reN3ZcqK/AAAAAAAAKEAAAAAAAAAoQABvIA0vW+W/c79WiI2jer8AAAAAAAAqQAAAAAAAACpAgCmBQLaY9r9ySD8v3F6MvwAAAAAAADJAAAAAAAAAMkCQ/A536nsawKCYFbgH566/AAAAAAAANEAAAAAAAAA0QEBvGCRkvBbAOcVPvmEcrL8AAAAAAAA1QAAAAAAAADVAADZtxZPx07+EZtPbTBdqvwAAAAAAADZAAAAAAAAANkAAX0rgjLjSvwNJNd7RkWi/AAAAAAAAOEAAAAAAAAA4QADC91MG7da/UTN9zCffbb8AAAAAAAA+QAAAAAAAAD5AAMy2o7bZFsD+pn71ALOsvwAAAAAAAD9AAAAAAAAAP0AA4L6RlOTfv7GY5SunN3W/AAAAAAAAQUAAAAAAAABBQMDeQ6+IMvC/75vLeCZnhb8=",
          "dtype": "f8",
          "shape": "13, 4"
         },
         "hovertemplate": "Exit Trade Id: %{customdata[0]}<br>Position Id: %{customdata[1]}<br>Exit Timestamp: %{x}<br>PnL: %{customdata[2]:.6f}<br>Return: %{customdata[3]:.2%}",
         "legendgroup": "4",
         "marker": {
          "color": "#EA4335",
          "line": {
           "color": "rgb(181,31,18)",
           "width": 1
          },
          "opacity": {
           "bdata": "vYe4g3Gt6D+8duA3853oPyyANx8Yyuo/Hqtijz9Z6D8WJzK2wvToP83MzMzMzOw/Eob2AG1Z7D8ZdsfjBRPoP68jkNUXD+g/jseo7ckc6D8PHOcTvnHsP9b2E3k9Peg/41iw6sSs6D8=",
           "dtype": "f8"
          },
          "size": {
           "bdata": "Im201cDzH0D2CUgbYJkfQCqLDFvGIiZALeYUb50IHkCqnGeT4skgQAAAAAAAACxAs7F57X2vKkDlMLaw924cQM96cwgLWBxAauGtP++nHEArZ7dkavYqQDh19Ow7ZR1A2FuvA9LvH0A=",
           "dtype": "f8"
          },
          "symbol": "circle"
         },
         "mode": "markers",
         "name": "Closed - Loss",
         "type": "scatter",
         "uid": "e534ec4f-87e6-452c-8c9a-3d35a9a2a85d",
         "x": [
          "2025-01-23T00:00:00.000000000",
          "2025-02-26T00:00:00.000000000",
          "2025-03-12T00:00:00.000000000",
          "2025-03-24T00:00:00.000000000",
          "2025-03-28T00:00:00.000000000",
          "2025-05-02T00:00:00.000000000",
          "2025-05-16T00:00:00.000000000",
          "2025-05-22T00:00:00.000000000",
          "2025-06-03T00:00:00.000000000",
          "2025-06-09T00:00:00.000000000",
          "2025-07-28T00:00:00.000000000",
          "2025-07-31T00:00:00.000000000",
          "2025-08-15T00:00:00.000000000"
         ],
         "xaxis": "x2",
         "y": {
          "bdata": "G+WV4Np3hb9gCFQZ+/eDv88reN3ZcqK/c79WiI2jer9ySD8v3F6Mv6CYFbgH566/OcVPvmEcrL+EZtPbTBdqvwNJNd7RkWi/UTN9zCffbb/+pn71ALOsv7GY5SunN3W/75vLeCZnhb8=",
          "dtype": "f8"
         },
         "yaxis": "y2"
        },
        {
         "customdata": {
          "bdata": "AAAAAAAAREAAAAAAAABEQODUNxRRFA7AKiyf5gF+o78=",
          "dtype": "f8",
          "shape": "1, 4"
         },
         "hovertemplate": "Exit Trade Id: %{customdata[0]}<br>Position Id: %{customdata[1]}<br>Exit Timestamp: %{x}<br>PnL: %{customdata[2]:.6f}<br>Return: %{customdata[3]:.2%}",
         "legendgroup": "5",
         "marker": {
          "color": "#FFAA00",
          "line": {
           "color": "rgb(178,118,0)",
           "width": 1
          },
          "opacity": {
           "bdata": "wFm+djn16j8=",
           "dtype": "f8"
          },
          "size": {
           "bdata": "xoUARZKgJkA=",
           "dtype": "f8"
          },
          "symbol": "circle"
         },
         "mode": "markers",
         "name": "Open",
         "type": "scatter",
         "uid": "4c953529-249d-4fd6-b11d-d78bfb3fe0c4",
         "x": [
          "2025-09-18T00:00:00.000000000"
         ],
         "xaxis": "x2",
         "y": {
          "bdata": "Kiyf5gF+o78=",
          "dtype": "f8"
         },
         "yaxis": "y2"
        },
        {
         "legendgroup": "6",
         "line": {
          "color": "#7f7f7f"
         },
         "name": "Benchmark",
         "showlegend": true,
         "type": "scatter",
         "uid": "321d0c42-bfc1-4b6e-acc7-1ff75740f4ec",
         "x": [
          "2025-01-02T00:00:00.000000000",
          "2025-01-03T00:00:00.000000000",
          "2025-01-06T00:00:00.000000000",
          "2025-01-07T00:00:00.000000000",
          "2025-01-08T00:00:00.000000000",
          "2025-01-10T00:00:00.000000000",
          "2025-01-13T00:00:00.000000000",
          "2025-01-14T00:00:00.000000000",
          "2025-01-15T00:00:00.000000000",
          "2025-01-16T00:00:00.000000000",
          "2025-01-17T00:00:00.000000000",
          "2025-01-21T00:00:00.000000000",
          "2025-01-22T00:00:00.000000000",
          "2025-01-23T00:00:00.000000000",
          "2025-01-24T00:00:00.000000000",
          "2025-01-27T00:00:00.000000000",
          "2025-01-28T00:00:00.000000000",
          "2025-01-29T00:00:00.000000000",
          "2025-01-30T00:00:00.000000000",
          "2025-01-31T00:00:00.000000000",
          "2025-02-03T00:00:00.000000000",
          "2025-02-04T00:00:00.000000000",
          "2025-02-05T00:00:00.000000000",
          "2025-02-06T00:00:00.000000000",
          "2025-02-07T00:00:00.000000000",
          "2025-02-10T00:00:00.000000000",
          "2025-02-11T00:00:00.000000000",
          "2025-02-12T00:00:00.000000000",
          "2025-02-13T00:00:00.000000000",
          "2025-02-14T00:00:00.000000000",
          "2025-02-18T00:00:00.000000000",
          "2025-02-19T00:00:00.000000000",
          "2025-02-20T00:00:00.000000000",
          "2025-02-21T00:00:00.000000000",
          "2025-02-24T00:00:00.000000000",
          "2025-02-25T00:00:00.000000000",
          "2025-02-26T00:00:00.000000000",
          "2025-02-27T00:00:00.000000000",
          "2025-02-28T00:00:00.000000000",
          "2025-03-03T00:00:00.000000000",
          "2025-03-04T00:00:00.000000000",
          "2025-03-05T00:00:00.000000000",
          "2025-03-06T00:00:00.000000000",
          "2025-03-07T00:00:00.000000000",
          "2025-03-10T00:00:00.000000000",
          "2025-03-11T00:00:00.000000000",
          "2025-03-12T00:00:00.000000000",
          "2025-03-13T00:00:00.000000000",
          "2025-03-14T00:00:00.000000000",
          "2025-03-17T00:00:00.000000000",
          "2025-03-18T00:00:00.000000000",
          "2025-03-19T00:00:00.000000000",
          "2025-03-20T00:00:00.000000000",
          "2025-03-21T00:00:00.000000000",
          "2025-03-24T00:00:00.000000000",
          "2025-03-25T00:00:00.000000000",
          "2025-03-26T00:00:00.000000000",
          "2025-03-27T00:00:00.000000000",
          "2025-03-28T00:00:00.000000000",
          "2025-03-31T00:00:00.000000000",
          "2025-04-01T00:00:00.000000000",
          "2025-04-02T00:00:00.000000000",
          "2025-04-03T00:00:00.000000000",
          "2025-04-04T00:00:00.000000000",
          "2025-04-07T00:00:00.000000000",
          "2025-04-08T00:00:00.000000000",
          "2025-04-09T00:00:00.000000000",
          "2025-04-10T00:00:00.000000000",
          "2025-04-11T00:00:00.000000000",
          "2025-04-14T00:00:00.000000000",
          "2025-04-15T00:00:00.000000000",
          "2025-04-16T00:00:00.000000000",
          "2025-04-17T00:00:00.000000000",
          "2025-04-21T00:00:00.000000000",
          "2025-04-22T00:00:00.000000000",
          "2025-04-23T00:00:00.000000000",
          "2025-04-24T00:00:00.000000000",
          "2025-04-25T00:00:00.000000000",
          "2025-04-28T00:00:00.000000000",
          "2025-04-29T00:00:00.000000000",
          "2025-04-30T00:00:00.000000000",
          "2025-05-01T00:00:00.000000000",
          "2025-05-02T00:00:00.000000000",
          "2025-05-05T00:00:00.000000000",
          "2025-05-06T00:00:00.000000000",
          "2025-05-07T00:00:00.000000000",
          "2025-05-08T00:00:00.000000000",
          "2025-05-09T00:00:00.000000000",
          "2025-05-12T00:00:00.000000000",
          "2025-05-13T00:00:00.000000000",
          "2025-05-14T00:00:00.000000000",
          "2025-05-15T00:00:00.000000000",
          "2025-05-16T00:00:00.000000000",
          "2025-05-19T00:00:00.000000000",
          "2025-05-20T00:00:00.000000000",
          "2025-05-21T00:00:00.000000000",
          "2025-05-22T00:00:00.000000000",
          "2025-05-23T00:00:00.000000000",
          "2025-05-27T00:00:00.000000000",
          "2025-05-28T00:00:00.000000000",
          "2025-05-29T00:00:00.000000000",
          "2025-05-30T00:00:00.000000000",
          "2025-06-02T00:00:00.000000000",
          "2025-06-03T00:00:00.000000000",
          "2025-06-04T00:00:00.000000000",
          "2025-06-05T00:00:00.000000000",
          "2025-06-06T00:00:00.000000000",
          "2025-06-09T00:00:00.000000000",
          "2025-06-10T00:00:00.000000000",
          "2025-06-11T00:00:00.000000000",
          "2025-06-12T00:00:00.000000000",
          "2025-06-13T00:00:00.000000000",
          "2025-06-16T00:00:00.000000000",
          "2025-06-17T00:00:00.000000000",
          "2025-06-18T00:00:00.000000000",
          "2025-06-20T00:00:00.000000000",
          "2025-06-23T00:00:00.000000000",
          "2025-06-24T00:00:00.000000000",
          "2025-06-25T00:00:00.000000000",
          "2025-06-26T00:00:00.000000000",
          "2025-06-27T00:00:00.000000000",
          "2025-06-30T00:00:00.000000000",
          "2025-07-01T00:00:00.000000000",
          "2025-07-02T00:00:00.000000000",
          "2025-07-03T00:00:00.000000000",
          "2025-07-07T00:00:00.000000000",
          "2025-07-08T00:00:00.000000000",
          "2025-07-09T00:00:00.000000000",
          "2025-07-10T00:00:00.000000000",
          "2025-07-11T00:00:00.000000000",
          "2025-07-14T00:00:00.000000000",
          "2025-07-15T00:00:00.000000000",
          "2025-07-16T00:00:00.000000000",
          "2025-07-17T00:00:00.000000000",
          "2025-07-18T00:00:00.000000000",
          "2025-07-21T00:00:00.000000000",
          "2025-07-22T00:00:00.000000000",
          "2025-07-23T00:00:00.000000000",
          "2025-07-24T00:00:00.000000000",
          "2025-07-25T00:00:00.000000000",
          "2025-07-28T00:00:00.000000000",
          "2025-07-29T00:00:00.000000000",
          "2025-07-30T00:00:00.000000000",
          "2025-07-31T00:00:00.000000000",
          "2025-08-01T00:00:00.000000000",
          "2025-08-04T00:00:00.000000000",
          "2025-08-05T00:00:00.000000000",
          "2025-08-06T00:00:00.000000000",
          "2025-08-07T00:00:00.000000000",
          "2025-08-08T00:00:00.000000000",
          "2025-08-11T00:00:00.000000000",
          "2025-08-12T00:00:00.000000000",
          "2025-08-13T00:00:00.000000000",
          "2025-08-14T00:00:00.000000000",
          "2025-08-15T00:00:00.000000000",
          "2025-08-18T00:00:00.000000000",
          "2025-08-19T00:00:00.000000000",
          "2025-08-20T00:00:00.000000000",
          "2025-08-21T00:00:00.000000000",
          "2025-08-22T00:00:00.000000000",
          "2025-08-25T00:00:00.000000000",
          "2025-08-26T00:00:00.000000000",
          "2025-08-27T00:00:00.000000000",
          "2025-08-28T00:00:00.000000000",
          "2025-08-29T00:00:00.000000000",
          "2025-09-02T00:00:00.000000000",
          "2025-09-03T00:00:00.000000000",
          "2025-09-04T00:00:00.000000000",
          "2025-09-05T00:00:00.000000000",
          "2025-09-08T00:00:00.000000000",
          "2025-09-09T00:00:00.000000000",
          "2025-09-10T00:00:00.000000000",
          "2025-09-11T00:00:00.000000000",
          "2025-09-12T00:00:00.000000000",
          "2025-09-15T00:00:00.000000000",
          "2025-09-16T00:00:00.000000000",
          "2025-09-17T00:00:00.000000000",
          "2025-09-18T00:00:00.000000000"
         ],
         "xaxis": "x3",
         "y": {
          "bdata": "AAAAAAAA8D+9JQ5xCaXvP1uG2letse8/nISOyKE07z/o/nelN0HvP9P39JpjSu8/I6Dh6BTd7z9FZhpG2cvvP/NQw0WWDvA/WyKNJ6Ey8D9V8wrUFEzwP/All/A/YvA/8u2pQUZW8D/OehFQSxnwP4w80pBIP/A/9zVpnNIr8D+nAqR9qUHwP1VuLbOoLPA/2497gycN8D8BYbGr1yrwPzjJKBAFO/A/J3YFeilK8D/KaVYusSLwPwaRHHVrPvA/vzuv89Q/8D8CFuw4gDTwP2k2wy7BX/A/p0Nj+HNf8D+WJOVvs2nwP4A/cTiwc/A/8QOIHW9h8D/0SRx54BnwP6tBkQxlBfA/x7u0EGfk7z++c+dYg+XvP86r7Z74Y+8/SV1W11/j7z+yoxquuVPvP8Jg/hSb8e4/l6vAVQFK7z/Zgx1SRrvuP8oQFui05u4/HmRjpFQR7j9cM6MeFNftP0Qpweho/O0/QbnK0MaR7T/EvxouwTLuP6KDSRxbZO4/56MavXcR7j9+1k3GlmTuP33vis2WU+4/RnnFz/1Z7j9HaQ/eGePuP8ajQaKM7+4/sYXp6DCX7j9gJRgsS33uP6007i494+0/+e+Whp0N7j9lOEkDtSruPwCslJqqXu4/ODUFImjm7D/G2FbUWizrP9FDdegiHOs/OpdTLCyv6j9NSG5tLzntP/oknJlHNuw/dV5BHvK47D8sQqrBXPPsP5guNb2O5uw/jrVefMRA7D9xJ3o+XUrsP2fiSAuun+s/2fYYIU1R7D9ChbsvFcrsP1WjutVkX+0/NjjO4NWW7T95175LsJvtP5tjlESrx+0/0f+wtvPS7T/nBQCVCwPuP1jM9sIwdO4/GA+YOXBC7j+F06DB1wbuP5h138hAKO4/Ww0PUQdV7j+u6ALtgE/uPwbCUdckTO8/PYbwvDeG7z/gpk0PfI7vP8vVmhHer+8/PqJPlrHo7z/tCnqg2e/vPyyTPEkg0O8/YTQgP7hM7z+guYO8J0nvPzjCYmZtE+8/GwYBBTC27z81gkGr9YjvP8zFIXlXqe8/9/l+Aq+o7z8V6RTs7cnvP3rQvKkh+e8//bV8Frz57z/pe4gqic7vPzdtAY8fEfA/QYEpOegU8D93Fp/eeivwP5B96h4fIPA/9t+0u+Yv8D+WoX0EFwHwPzR8OJ6SJ/A/ygsSCwgF8D+o/XJmwwPwP8hobbip9e8/A7EASSEi8D9GigliEFDwP7HQkN8MUPA/QMyj9Ypx8D/xe1kug4fwPzYCDZJdnfA/AnZpuJuY8D8pdd+qxKzwPzm3VXxd0PA/YT8854Wu8D8UlxJAd6vwPz2E8vdVxfA/5vKBRSDR8D/5Si8G7sLwP+We6gb4yPA/5LcnDvi38D/+dlIuo8XwP96B/u213PA/19iN51Hc8D/DLEnoW+LwP0/iElkd5fA/1nNJ5OYG8T+PYvoI8gnxP0UMS/5HG/E/iAHwSQ4c8T/Klw7pFw/xPwITXhGjCfE/6O0FeIX58D+vTZMHB7TwP25nMygL8/A/bNYkEPfd8D/Lcbd0aP3wPxcKaIPw+fA/QGhkItYb8T9heCBp3hDxP01sIZFvQvE/6RAMHrVQ8T+8G0MQDVLxP2zbY4Q0RfE/FEwQdMJE8T/B6z633CrxP0TYpfAsIPE/SJXJ054O8T/6BtQG71DxP5b/R3UFPvE/W970zkRQ8T+SO33F3VrxP8DT6iXkaPE/rf0GEWBM8T8mEZJ6uC3xP8YJFEYmRPE/Ic0awQpp8T9429hR71rxP7ads6hKZPE/63hklkJw8T+7u4g3lH3xP0TahTmTo/E/EpeKMGWh8T8J20Fmo7bxPwYKXUnMsPE/r7M4cWes8T+gcI5zEsLxP/jPhBdI2PE/jRWCh23s8T8=",
          "dtype": "f8"
         },
         "yaxis": "y3"
        },
        {
         "hoverinfo": "skip",
         "legendgroup": "7",
         "line": {
          "color": "rgba(0, 0, 0, 0)",
          "width": 0
         },
         "opacity": 0,
         "showlegend": false,
         "type": "scatter",
         "uid": "995558df-6859-4602-9a8f-a885d5b11902",
         "x": [
          "2025-01-02T00:00:00.000000000",
          "2025-01-03T00:00:00.000000000",
          "2025-01-06T00:00:00.000000000",
          "2025-01-07T00:00:00.000000000",
          "2025-01-08T00:00:00.000000000",
          "2025-01-10T00:00:00.000000000",
          "2025-01-13T00:00:00.000000000",
          "2025-01-14T00:00:00.000000000",
          "2025-01-15T00:00:00.000000000",
          "2025-01-16T00:00:00.000000000",
          "2025-01-17T00:00:00.000000000",
          "2025-01-21T00:00:00.000000000",
          "2025-01-22T00:00:00.000000000",
          "2025-01-23T00:00:00.000000000",
          "2025-01-24T00:00:00.000000000",
          "2025-01-27T00:00:00.000000000",
          "2025-01-28T00:00:00.000000000",
          "2025-01-29T00:00:00.000000000",
          "2025-01-30T00:00:00.000000000",
          "2025-01-31T00:00:00.000000000",
          "2025-02-03T00:00:00.000000000",
          "2025-02-04T00:00:00.000000000",
          "2025-02-05T00:00:00.000000000",
          "2025-02-06T00:00:00.000000000",
          "2025-02-07T00:00:00.000000000",
          "2025-02-10T00:00:00.000000000",
          "2025-02-11T00:00:00.000000000",
          "2025-02-12T00:00:00.000000000",
          "2025-02-13T00:00:00.000000000",
          "2025-02-14T00:00:00.000000000",
          "2025-02-18T00:00:00.000000000",
          "2025-02-19T00:00:00.000000000",
          "2025-02-20T00:00:00.000000000",
          "2025-02-21T00:00:00.000000000",
          "2025-02-24T00:00:00.000000000",
          "2025-02-25T00:00:00.000000000",
          "2025-02-26T00:00:00.000000000",
          "2025-02-27T00:00:00.000000000",
          "2025-02-28T00:00:00.000000000",
          "2025-03-03T00:00:00.000000000",
          "2025-03-04T00:00:00.000000000",
          "2025-03-05T00:00:00.000000000",
          "2025-03-06T00:00:00.000000000",
          "2025-03-07T00:00:00.000000000",
          "2025-03-10T00:00:00.000000000",
          "2025-03-11T00:00:00.000000000",
          "2025-03-12T00:00:00.000000000",
          "2025-03-13T00:00:00.000000000",
          "2025-03-14T00:00:00.000000000",
          "2025-03-17T00:00:00.000000000",
          "2025-03-18T00:00:00.000000000",
          "2025-03-19T00:00:00.000000000",
          "2025-03-20T00:00:00.000000000",
          "2025-03-21T00:00:00.000000000",
          "2025-03-24T00:00:00.000000000",
          "2025-03-25T00:00:00.000000000",
          "2025-03-26T00:00:00.000000000",
          "2025-03-27T00:00:00.000000000",
          "2025-03-28T00:00:00.000000000",
          "2025-03-31T00:00:00.000000000",
          "2025-04-01T00:00:00.000000000",
          "2025-04-02T00:00:00.000000000",
          "2025-04-03T00:00:00.000000000",
          "2025-04-04T00:00:00.000000000",
          "2025-04-07T00:00:00.000000000",
          "2025-04-08T00:00:00.000000000",
          "2025-04-09T00:00:00.000000000",
          "2025-04-10T00:00:00.000000000",
          "2025-04-11T00:00:00.000000000",
          "2025-04-14T00:00:00.000000000",
          "2025-04-15T00:00:00.000000000",
          "2025-04-16T00:00:00.000000000",
          "2025-04-17T00:00:00.000000000",
          "2025-04-21T00:00:00.000000000",
          "2025-04-22T00:00:00.000000000",
          "2025-04-23T00:00:00.000000000",
          "2025-04-24T00:00:00.000000000",
          "2025-04-25T00:00:00.000000000",
          "2025-04-28T00:00:00.000000000",
          "2025-04-29T00:00:00.000000000",
          "2025-04-30T00:00:00.000000000",
          "2025-05-01T00:00:00.000000000",
          "2025-05-02T00:00:00.000000000",
          "2025-05-05T00:00:00.000000000",
          "2025-05-06T00:00:00.000000000",
          "2025-05-07T00:00:00.000000000",
          "2025-05-08T00:00:00.000000000",
          "2025-05-09T00:00:00.000000000",
          "2025-05-12T00:00:00.000000000",
          "2025-05-13T00:00:00.000000000",
          "2025-05-14T00:00:00.000000000",
          "2025-05-15T00:00:00.000000000",
          "2025-05-16T00:00:00.000000000",
          "2025-05-19T00:00:00.000000000",
          "2025-05-20T00:00:00.000000000",
          "2025-05-21T00:00:00.000000000",
          "2025-05-22T00:00:00.000000000",
          "2025-05-23T00:00:00.000000000",
          "2025-05-27T00:00:00.000000000",
          "2025-05-28T00:00:00.000000000",
          "2025-05-29T00:00:00.000000000",
          "2025-05-30T00:00:00.000000000",
          "2025-06-02T00:00:00.000000000",
          "2025-06-03T00:00:00.000000000",
          "2025-06-04T00:00:00.000000000",
          "2025-06-05T00:00:00.000000000",
          "2025-06-06T00:00:00.000000000",
          "2025-06-09T00:00:00.000000000",
          "2025-06-10T00:00:00.000000000",
          "2025-06-11T00:00:00.000000000",
          "2025-06-12T00:00:00.000000000",
          "2025-06-13T00:00:00.000000000",
          "2025-06-16T00:00:00.000000000",
          "2025-06-17T00:00:00.000000000",
          "2025-06-18T00:00:00.000000000",
          "2025-06-20T00:00:00.000000000",
          "2025-06-23T00:00:00.000000000",
          "2025-06-24T00:00:00.000000000",
          "2025-06-25T00:00:00.000000000",
          "2025-06-26T00:00:00.000000000",
          "2025-06-27T00:00:00.000000000",
          "2025-06-30T00:00:00.000000000",
          "2025-07-01T00:00:00.000000000",
          "2025-07-02T00:00:00.000000000",
          "2025-07-03T00:00:00.000000000",
          "2025-07-07T00:00:00.000000000",
          "2025-07-08T00:00:00.000000000",
          "2025-07-09T00:00:00.000000000",
          "2025-07-10T00:00:00.000000000",
          "2025-07-11T00:00:00.000000000",
          "2025-07-14T00:00:00.000000000",
          "2025-07-15T00:00:00.000000000",
          "2025-07-16T00:00:00.000000000",
          "2025-07-17T00:00:00.000000000",
          "2025-07-18T00:00:00.000000000",
          "2025-07-21T00:00:00.000000000",
          "2025-07-22T00:00:00.000000000",
          "2025-07-23T00:00:00.000000000",
          "2025-07-24T00:00:00.000000000",
          "2025-07-25T00:00:00.000000000",
          "2025-07-28T00:00:00.000000000",
          "2025-07-29T00:00:00.000000000",
          "2025-07-30T00:00:00.000000000",
          "2025-07-31T00:00:00.000000000",
          "2025-08-01T00:00:00.000000000",
          "2025-08-04T00:00:00.000000000",
          "2025-08-05T00:00:00.000000000",
          "2025-08-06T00:00:00.000000000",
          "2025-08-07T00:00:00.000000000",
          "2025-08-08T00:00:00.000000000",
          "2025-08-11T00:00:00.000000000",
          "2025-08-12T00:00:00.000000000",
          "2025-08-13T00:00:00.000000000",
          "2025-08-14T00:00:00.000000000",
          "2025-08-15T00:00:00.000000000",
          "2025-08-18T00:00:00.000000000",
          "2025-08-19T00:00:00.000000000",
          "2025-08-20T00:00:00.000000000",
          "2025-08-21T00:00:00.000000000",
          "2025-08-22T00:00:00.000000000",
          "2025-08-25T00:00:00.000000000",
          "2025-08-26T00:00:00.000000000",
          "2025-08-27T00:00:00.000000000",
          "2025-08-28T00:00:00.000000000",
          "2025-08-29T00:00:00.000000000",
          "2025-09-02T00:00:00.000000000",
          "2025-09-03T00:00:00.000000000",
          "2025-09-04T00:00:00.000000000",
          "2025-09-05T00:00:00.000000000",
          "2025-09-08T00:00:00.000000000",
          "2025-09-09T00:00:00.000000000",
          "2025-09-10T00:00:00.000000000",
          "2025-09-11T00:00:00.000000000",
          "2025-09-12T00:00:00.000000000",
          "2025-09-15T00:00:00.000000000",
          "2025-09-16T00:00:00.000000000",
          "2025-09-17T00:00:00.000000000",
          "2025-09-18T00:00:00.000000000"
         ],
         "xaxis": "x3",
         "y": {
          "bdata": "AQEBAQEBAQEBAQEBAQEBAQEBAQEBAQEBAQEBAQEBAQEBAQEBAQEBAQEBAQEBAQEBAQEBAQEBAQEBAQEBAQEBAQEBAQEBAQEBAQEBAQEBAQEBAQEBAQEBAQEBAQEBAQEBAQEBAQEBAQEBAQEBAQEBAQEBAQEBAQEBAQEBAQEBAQEBAQEBAQEBAQEBAQEBAQEBAQEBAQEBAQEBAQEBAQEBAQEBAQEBAQEBAQEBAQEBAQEBAQ==",
          "dtype": "i1"
         },
         "yaxis": "y3"
        },
        {
         "connectgaps": false,
         "fill": "tonexty",
         "fillcolor": "rgba(0, 128, 0, 0.3)",
         "hoverinfo": "skip",
         "legendgroup": "7",
         "line": {
          "color": "rgba(0, 0, 0, 0)",
          "width": 0
         },
         "opacity": 0,
         "showlegend": false,
         "type": "scatter",
         "uid": "5a706c56-3732-478a-afcd-79e9615afe11",
         "x": [
          "2025-01-02T00:00:00.000000000",
          "2025-01-03T00:00:00.000000000",
          "2025-01-06T00:00:00.000000000",
          "2025-01-07T00:00:00.000000000",
          "2025-01-08T00:00:00.000000000",
          "2025-01-10T00:00:00.000000000",
          "2025-01-13T00:00:00.000000000",
          "2025-01-14T00:00:00.000000000",
          "2025-01-15T00:00:00.000000000",
          "2025-01-16T00:00:00.000000000",
          "2025-01-17T00:00:00.000000000",
          "2025-01-21T00:00:00.000000000",
          "2025-01-22T00:00:00.000000000",
          "2025-01-23T00:00:00.000000000",
          "2025-01-24T00:00:00.000000000",
          "2025-01-27T00:00:00.000000000",
          "2025-01-28T00:00:00.000000000",
          "2025-01-29T00:00:00.000000000",
          "2025-01-30T00:00:00.000000000",
          "2025-01-31T00:00:00.000000000",
          "2025-02-03T00:00:00.000000000",
          "2025-02-04T00:00:00.000000000",
          "2025-02-05T00:00:00.000000000",
          "2025-02-06T00:00:00.000000000",
          "2025-02-07T00:00:00.000000000",
          "2025-02-10T00:00:00.000000000",
          "2025-02-11T00:00:00.000000000",
          "2025-02-12T00:00:00.000000000",
          "2025-02-13T00:00:00.000000000",
          "2025-02-14T00:00:00.000000000",
          "2025-02-18T00:00:00.000000000",
          "2025-02-19T00:00:00.000000000",
          "2025-02-20T00:00:00.000000000",
          "2025-02-21T00:00:00.000000000",
          "2025-02-24T00:00:00.000000000",
          "2025-02-25T00:00:00.000000000",
          "2025-02-26T00:00:00.000000000",
          "2025-02-27T00:00:00.000000000",
          "2025-02-28T00:00:00.000000000",
          "2025-03-03T00:00:00.000000000",
          "2025-03-04T00:00:00.000000000",
          "2025-03-05T00:00:00.000000000",
          "2025-03-06T00:00:00.000000000",
          "2025-03-07T00:00:00.000000000",
          "2025-03-10T00:00:00.000000000",
          "2025-03-11T00:00:00.000000000",
          "2025-03-12T00:00:00.000000000",
          "2025-03-13T00:00:00.000000000",
          "2025-03-14T00:00:00.000000000",
          "2025-03-17T00:00:00.000000000",
          "2025-03-18T00:00:00.000000000",
          "2025-03-19T00:00:00.000000000",
          "2025-03-20T00:00:00.000000000",
          "2025-03-21T00:00:00.000000000",
          "2025-03-24T00:00:00.000000000",
          "2025-03-25T00:00:00.000000000",
          "2025-03-26T00:00:00.000000000",
          "2025-03-27T00:00:00.000000000",
          "2025-03-28T00:00:00.000000000",
          "2025-03-31T00:00:00.000000000",
          "2025-04-01T00:00:00.000000000",
          "2025-04-02T00:00:00.000000000",
          "2025-04-03T00:00:00.000000000",
          "2025-04-04T00:00:00.000000000",
          "2025-04-07T00:00:00.000000000",
          "2025-04-08T00:00:00.000000000",
          "2025-04-09T00:00:00.000000000",
          "2025-04-10T00:00:00.000000000",
          "2025-04-11T00:00:00.000000000",
          "2025-04-14T00:00:00.000000000",
          "2025-04-15T00:00:00.000000000",
          "2025-04-16T00:00:00.000000000",
          "2025-04-17T00:00:00.000000000",
          "2025-04-21T00:00:00.000000000",
          "2025-04-22T00:00:00.000000000",
          "2025-04-23T00:00:00.000000000",
          "2025-04-24T00:00:00.000000000",
          "2025-04-25T00:00:00.000000000",
          "2025-04-28T00:00:00.000000000",
          "2025-04-29T00:00:00.000000000",
          "2025-04-30T00:00:00.000000000",
          "2025-05-01T00:00:00.000000000",
          "2025-05-02T00:00:00.000000000",
          "2025-05-05T00:00:00.000000000",
          "2025-05-06T00:00:00.000000000",
          "2025-05-07T00:00:00.000000000",
          "2025-05-08T00:00:00.000000000",
          "2025-05-09T00:00:00.000000000",
          "2025-05-12T00:00:00.000000000",
          "2025-05-13T00:00:00.000000000",
          "2025-05-14T00:00:00.000000000",
          "2025-05-15T00:00:00.000000000",
          "2025-05-16T00:00:00.000000000",
          "2025-05-19T00:00:00.000000000",
          "2025-05-20T00:00:00.000000000",
          "2025-05-21T00:00:00.000000000",
          "2025-05-22T00:00:00.000000000",
          "2025-05-23T00:00:00.000000000",
          "2025-05-27T00:00:00.000000000",
          "2025-05-28T00:00:00.000000000",
          "2025-05-29T00:00:00.000000000",
          "2025-05-30T00:00:00.000000000",
          "2025-06-02T00:00:00.000000000",
          "2025-06-03T00:00:00.000000000",
          "2025-06-04T00:00:00.000000000",
          "2025-06-05T00:00:00.000000000",
          "2025-06-06T00:00:00.000000000",
          "2025-06-09T00:00:00.000000000",
          "2025-06-10T00:00:00.000000000",
          "2025-06-11T00:00:00.000000000",
          "2025-06-12T00:00:00.000000000",
          "2025-06-13T00:00:00.000000000",
          "2025-06-16T00:00:00.000000000",
          "2025-06-17T00:00:00.000000000",
          "2025-06-18T00:00:00.000000000",
          "2025-06-20T00:00:00.000000000",
          "2025-06-23T00:00:00.000000000",
          "2025-06-24T00:00:00.000000000",
          "2025-06-25T00:00:00.000000000",
          "2025-06-26T00:00:00.000000000",
          "2025-06-27T00:00:00.000000000",
          "2025-06-30T00:00:00.000000000",
          "2025-07-01T00:00:00.000000000",
          "2025-07-02T00:00:00.000000000",
          "2025-07-03T00:00:00.000000000",
          "2025-07-07T00:00:00.000000000",
          "2025-07-08T00:00:00.000000000",
          "2025-07-09T00:00:00.000000000",
          "2025-07-10T00:00:00.000000000",
          "2025-07-11T00:00:00.000000000",
          "2025-07-14T00:00:00.000000000",
          "2025-07-15T00:00:00.000000000",
          "2025-07-16T00:00:00.000000000",
          "2025-07-17T00:00:00.000000000",
          "2025-07-18T00:00:00.000000000",
          "2025-07-21T00:00:00.000000000",
          "2025-07-22T00:00:00.000000000",
          "2025-07-23T00:00:00.000000000",
          "2025-07-24T00:00:00.000000000",
          "2025-07-25T00:00:00.000000000",
          "2025-07-28T00:00:00.000000000",
          "2025-07-29T00:00:00.000000000",
          "2025-07-30T00:00:00.000000000",
          "2025-07-31T00:00:00.000000000",
          "2025-08-01T00:00:00.000000000",
          "2025-08-04T00:00:00.000000000",
          "2025-08-05T00:00:00.000000000",
          "2025-08-06T00:00:00.000000000",
          "2025-08-07T00:00:00.000000000",
          "2025-08-08T00:00:00.000000000",
          "2025-08-11T00:00:00.000000000",
          "2025-08-12T00:00:00.000000000",
          "2025-08-13T00:00:00.000000000",
          "2025-08-14T00:00:00.000000000",
          "2025-08-15T00:00:00.000000000",
          "2025-08-18T00:00:00.000000000",
          "2025-08-19T00:00:00.000000000",
          "2025-08-20T00:00:00.000000000",
          "2025-08-21T00:00:00.000000000",
          "2025-08-22T00:00:00.000000000",
          "2025-08-25T00:00:00.000000000",
          "2025-08-26T00:00:00.000000000",
          "2025-08-27T00:00:00.000000000",
          "2025-08-28T00:00:00.000000000",
          "2025-08-29T00:00:00.000000000",
          "2025-09-02T00:00:00.000000000",
          "2025-09-03T00:00:00.000000000",
          "2025-09-04T00:00:00.000000000",
          "2025-09-05T00:00:00.000000000",
          "2025-09-08T00:00:00.000000000",
          "2025-09-09T00:00:00.000000000",
          "2025-09-10T00:00:00.000000000",
          "2025-09-11T00:00:00.000000000",
          "2025-09-12T00:00:00.000000000",
          "2025-09-15T00:00:00.000000000",
          "2025-09-16T00:00:00.000000000",
          "2025-09-17T00:00:00.000000000",
          "2025-09-18T00:00:00.000000000"
         ],
         "xaxis": "x3",
         "y": {
          "bdata": "AQAAAAAA8D8i7XhHey3wPy2KhZDxM/A/AAAAAAAA8D8AAAAAAADwPwAAAAAAAPA/UaloHSJK8D/fZR148VLwP51vFBBeKfA/Y9qn+IME8D8AAAAAAADwPwAAAAAAAPA/AAAAAAAA8D+NknJ3ax7wP3SRkNB0RPA/XTcm9/BX8D/Qkt8hE0LwPw9nOJwaV/A/bqW906V28D8VRfEZGZXwP9JJSWOBhPA/i8K8dPl08D9t2zAodZ3wP3ei5qUEgfA/HsKA35F/8D9H/YcSMYvwP5n4odbTXvA/Fxx3CCNf8D93Pe02oFTwP9txm8phSvA/Jy0/3hpd8D92UQbNf6bwP2NY331RkfA/EqNeWHh98D+GjONVC37wP4wF4UcQO/A/XOc4PvB88D9Bkn6eNsfwP6eUk5KpkvA/M3eS6AHC8D8gNoZNkHXwPzZSEzXTjPA/dyC8e4sa8D8AAAAAAADwPziP0A1XD/A/AAAAAAAA8D+OQRI0cizwP2LUiW7hEfA/lBxdIEY+8D9E3N1XLWvwP16NAFZcdPA/XQf46+Zw8D8uLTho1SbwP9XPrN8bIPA//rwUWddP8D+FGv8oCELwPwAAAAAAAPA/wU1ZP3sG8D+JpUZ8/hXwPwAAAAAAAPA/0gbR3uvC8D8AAAAAAADwPwAAAAAAAPA/AAAAAAAA8D+VSedg7vLwP8cAN0sXifE/QYossU498T+9K3RQbRvxPxC98n7aIvE/NJq7HQKD8T8UPbLc9IjxP5zH2LwpH/E/i4ICl0GN8T+k9ZG+ZELxP8w0Jv7Y5fA/j1cz33vD8D+otyjMecDwPwLpNEU3pfA/a5nH9Die8D8bztfSaYDwPw+vGqZIOvA/2n+5/x5Z8D+a1FNAD37wP/xH9BFpkPA/SU7oLtF38D/nqHMM2nrwPwAAAAAAAPA/AAAAAAAA8D8AAAAAAADwPwAAAAAAAPA/AAAAAAAA8D8AAAAAAADwPwAAAAAAAPA/AAAAAAAA8D8AAAAAAADwPwAAAAAAAPA/AAAAAAAA8D8AAAAAAADwPwAAAAAAAPA/AAAAAAAA8D8AAAAAAADwPwAAAAAAAPA/AAAAAAAA8D8AAAAAAADwPwAAAAAAAPA/AAAAAAAA8D8AAAAAAADwPwAAAAAAAPA/AAAAAAAA8D8AAAAAAADwP0SgWj0jDPA/X0FMJ3Mu8D+jPZWktS/wP+ilzpeuJvA/aDuc22ZO8D/hDjO2+R/wPwVMTUL9H/A/AAAAAAAA8D8AAAAAAADwPwAAAAAAAPA/AAAAAAAA8D8AAAAAAADwPwAAAAAAAPA/AAAAAAAA8D8AAAAAAADwPwAAAAAAAPA/AAAAAAAA8D8AAAAAAADwPwAAAAAAAPA/AAAAAAAA8D8AAAAAAADwPwAAAAAAAPA/AAAAAAAA8D8AAAAAAADwPwAAAAAAAPA/AAAAAAAA8D8AAAAAAADwPwAAAAAAAPA/AAAAAAAA8D8AAAAAAADwPwAAAAAAAPA/AAAAAAAA8D8AAAAAAADwPwAAAAAAAPA/AAAAAAAA8D8AAAAAAADwPwAAAAAAAPA/AAAAAAAA8D8AAAAAAADwPwAAAAAAAPA/AAAAAAAA8D8AAAAAAADwPwAAAAAAAPA/AAAAAAAA8D8AAAAAAADwPwAAAAAAAPA/AAAAAAAA8D8AAAAAAADwPwAAAAAAAPA/AAAAAAAA8D8AAAAAAADwPwAAAAAAAPA/AAAAAAAA8D8AAAAAAADwPwAAAAAAAPA/AAAAAAAA8D8AAAAAAADwPwAAAAAAAPA/AAAAAAAA8D8AAAAAAADwPwAAAAAAAPA/AAAAAAAA8D8AAAAAAADwPwAAAAAAAPA/AAAAAAAA8D8AAAAAAADwPwAAAAAAAPA/AAAAAAAA8D8=",
          "dtype": "f8"
         },
         "yaxis": "y3"
        },
        {
         "hoverinfo": "skip",
         "legendgroup": "7",
         "line": {
          "color": "rgba(0, 0, 0, 0)",
          "width": 0
         },
         "opacity": 0,
         "showlegend": false,
         "type": "scatter",
         "uid": "3679d2b7-f1cc-433f-9e9d-d4451eb8346c",
         "x": [
          "2025-01-02T00:00:00.000000000",
          "2025-01-03T00:00:00.000000000",
          "2025-01-06T00:00:00.000000000",
          "2025-01-07T00:00:00.000000000",
          "2025-01-08T00:00:00.000000000",
          "2025-01-10T00:00:00.000000000",
          "2025-01-13T00:00:00.000000000",
          "2025-01-14T00:00:00.000000000",
          "2025-01-15T00:00:00.000000000",
          "2025-01-16T00:00:00.000000000",
          "2025-01-17T00:00:00.000000000",
          "2025-01-21T00:00:00.000000000",
          "2025-01-22T00:00:00.000000000",
          "2025-01-23T00:00:00.000000000",
          "2025-01-24T00:00:00.000000000",
          "2025-01-27T00:00:00.000000000",
          "2025-01-28T00:00:00.000000000",
          "2025-01-29T00:00:00.000000000",
          "2025-01-30T00:00:00.000000000",
          "2025-01-31T00:00:00.000000000",
          "2025-02-03T00:00:00.000000000",
          "2025-02-04T00:00:00.000000000",
          "2025-02-05T00:00:00.000000000",
          "2025-02-06T00:00:00.000000000",
          "2025-02-07T00:00:00.000000000",
          "2025-02-10T00:00:00.000000000",
          "2025-02-11T00:00:00.000000000",
          "2025-02-12T00:00:00.000000000",
          "2025-02-13T00:00:00.000000000",
          "2025-02-14T00:00:00.000000000",
          "2025-02-18T00:00:00.000000000",
          "2025-02-19T00:00:00.000000000",
          "2025-02-20T00:00:00.000000000",
          "2025-02-21T00:00:00.000000000",
          "2025-02-24T00:00:00.000000000",
          "2025-02-25T00:00:00.000000000",
          "2025-02-26T00:00:00.000000000",
          "2025-02-27T00:00:00.000000000",
          "2025-02-28T00:00:00.000000000",
          "2025-03-03T00:00:00.000000000",
          "2025-03-04T00:00:00.000000000",
          "2025-03-05T00:00:00.000000000",
          "2025-03-06T00:00:00.000000000",
          "2025-03-07T00:00:00.000000000",
          "2025-03-10T00:00:00.000000000",
          "2025-03-11T00:00:00.000000000",
          "2025-03-12T00:00:00.000000000",
          "2025-03-13T00:00:00.000000000",
          "2025-03-14T00:00:00.000000000",
          "2025-03-17T00:00:00.000000000",
          "2025-03-18T00:00:00.000000000",
          "2025-03-19T00:00:00.000000000",
          "2025-03-20T00:00:00.000000000",
          "2025-03-21T00:00:00.000000000",
          "2025-03-24T00:00:00.000000000",
          "2025-03-25T00:00:00.000000000",
          "2025-03-26T00:00:00.000000000",
          "2025-03-27T00:00:00.000000000",
          "2025-03-28T00:00:00.000000000",
          "2025-03-31T00:00:00.000000000",
          "2025-04-01T00:00:00.000000000",
          "2025-04-02T00:00:00.000000000",
          "2025-04-03T00:00:00.000000000",
          "2025-04-04T00:00:00.000000000",
          "2025-04-07T00:00:00.000000000",
          "2025-04-08T00:00:00.000000000",
          "2025-04-09T00:00:00.000000000",
          "2025-04-10T00:00:00.000000000",
          "2025-04-11T00:00:00.000000000",
          "2025-04-14T00:00:00.000000000",
          "2025-04-15T00:00:00.000000000",
          "2025-04-16T00:00:00.000000000",
          "2025-04-17T00:00:00.000000000",
          "2025-04-21T00:00:00.000000000",
          "2025-04-22T00:00:00.000000000",
          "2025-04-23T00:00:00.000000000",
          "2025-04-24T00:00:00.000000000",
          "2025-04-25T00:00:00.000000000",
          "2025-04-28T00:00:00.000000000",
          "2025-04-29T00:00:00.000000000",
          "2025-04-30T00:00:00.000000000",
          "2025-05-01T00:00:00.000000000",
          "2025-05-02T00:00:00.000000000",
          "2025-05-05T00:00:00.000000000",
          "2025-05-06T00:00:00.000000000",
          "2025-05-07T00:00:00.000000000",
          "2025-05-08T00:00:00.000000000",
          "2025-05-09T00:00:00.000000000",
          "2025-05-12T00:00:00.000000000",
          "2025-05-13T00:00:00.000000000",
          "2025-05-14T00:00:00.000000000",
          "2025-05-15T00:00:00.000000000",
          "2025-05-16T00:00:00.000000000",
          "2025-05-19T00:00:00.000000000",
          "2025-05-20T00:00:00.000000000",
          "2025-05-21T00:00:00.000000000",
          "2025-05-22T00:00:00.000000000",
          "2025-05-23T00:00:00.000000000",
          "2025-05-27T00:00:00.000000000",
          "2025-05-28T00:00:00.000000000",
          "2025-05-29T00:00:00.000000000",
          "2025-05-30T00:00:00.000000000",
          "2025-06-02T00:00:00.000000000",
          "2025-06-03T00:00:00.000000000",
          "2025-06-04T00:00:00.000000000",
          "2025-06-05T00:00:00.000000000",
          "2025-06-06T00:00:00.000000000",
          "2025-06-09T00:00:00.000000000",
          "2025-06-10T00:00:00.000000000",
          "2025-06-11T00:00:00.000000000",
          "2025-06-12T00:00:00.000000000",
          "2025-06-13T00:00:00.000000000",
          "2025-06-16T00:00:00.000000000",
          "2025-06-17T00:00:00.000000000",
          "2025-06-18T00:00:00.000000000",
          "2025-06-20T00:00:00.000000000",
          "2025-06-23T00:00:00.000000000",
          "2025-06-24T00:00:00.000000000",
          "2025-06-25T00:00:00.000000000",
          "2025-06-26T00:00:00.000000000",
          "2025-06-27T00:00:00.000000000",
          "2025-06-30T00:00:00.000000000",
          "2025-07-01T00:00:00.000000000",
          "2025-07-02T00:00:00.000000000",
          "2025-07-03T00:00:00.000000000",
          "2025-07-07T00:00:00.000000000",
          "2025-07-08T00:00:00.000000000",
          "2025-07-09T00:00:00.000000000",
          "2025-07-10T00:00:00.000000000",
          "2025-07-11T00:00:00.000000000",
          "2025-07-14T00:00:00.000000000",
          "2025-07-15T00:00:00.000000000",
          "2025-07-16T00:00:00.000000000",
          "2025-07-17T00:00:00.000000000",
          "2025-07-18T00:00:00.000000000",
          "2025-07-21T00:00:00.000000000",
          "2025-07-22T00:00:00.000000000",
          "2025-07-23T00:00:00.000000000",
          "2025-07-24T00:00:00.000000000",
          "2025-07-25T00:00:00.000000000",
          "2025-07-28T00:00:00.000000000",
          "2025-07-29T00:00:00.000000000",
          "2025-07-30T00:00:00.000000000",
          "2025-07-31T00:00:00.000000000",
          "2025-08-01T00:00:00.000000000",
          "2025-08-04T00:00:00.000000000",
          "2025-08-05T00:00:00.000000000",
          "2025-08-06T00:00:00.000000000",
          "2025-08-07T00:00:00.000000000",
          "2025-08-08T00:00:00.000000000",
          "2025-08-11T00:00:00.000000000",
          "2025-08-12T00:00:00.000000000",
          "2025-08-13T00:00:00.000000000",
          "2025-08-14T00:00:00.000000000",
          "2025-08-15T00:00:00.000000000",
          "2025-08-18T00:00:00.000000000",
          "2025-08-19T00:00:00.000000000",
          "2025-08-20T00:00:00.000000000",
          "2025-08-21T00:00:00.000000000",
          "2025-08-22T00:00:00.000000000",
          "2025-08-25T00:00:00.000000000",
          "2025-08-26T00:00:00.000000000",
          "2025-08-27T00:00:00.000000000",
          "2025-08-28T00:00:00.000000000",
          "2025-08-29T00:00:00.000000000",
          "2025-09-02T00:00:00.000000000",
          "2025-09-03T00:00:00.000000000",
          "2025-09-04T00:00:00.000000000",
          "2025-09-05T00:00:00.000000000",
          "2025-09-08T00:00:00.000000000",
          "2025-09-09T00:00:00.000000000",
          "2025-09-10T00:00:00.000000000",
          "2025-09-11T00:00:00.000000000",
          "2025-09-12T00:00:00.000000000",
          "2025-09-15T00:00:00.000000000",
          "2025-09-16T00:00:00.000000000",
          "2025-09-17T00:00:00.000000000",
          "2025-09-18T00:00:00.000000000"
         ],
         "xaxis": "x3",
         "y": {
          "bdata": "AQEBAQEBAQEBAQEBAQEBAQEBAQEBAQEBAQEBAQEBAQEBAQEBAQEBAQEBAQEBAQEBAQEBAQEBAQEBAQEBAQEBAQEBAQEBAQEBAQEBAQEBAQEBAQEBAQEBAQEBAQEBAQEBAQEBAQEBAQEBAQEBAQEBAQEBAQEBAQEBAQEBAQEBAQEBAQEBAQEBAQEBAQEBAQEBAQEBAQEBAQEBAQEBAQEBAQEBAQEBAQEBAQEBAQEBAQEBAQ==",
          "dtype": "i1"
         },
         "yaxis": "y3"
        },
        {
         "connectgaps": false,
         "fill": "tonexty",
         "fillcolor": "rgba(255, 0, 0, 0.3)",
         "hoverinfo": "skip",
         "legendgroup": "7",
         "line": {
          "color": "rgba(0, 0, 0, 0)",
          "width": 0
         },
         "opacity": 0,
         "showlegend": false,
         "type": "scatter",
         "uid": "35cfdf89-2b12-4aee-ace1-bc636dc8e34d",
         "x": [
          "2025-01-02T00:00:00.000000000",
          "2025-01-03T00:00:00.000000000",
          "2025-01-06T00:00:00.000000000",
          "2025-01-07T00:00:00.000000000",
          "2025-01-08T00:00:00.000000000",
          "2025-01-10T00:00:00.000000000",
          "2025-01-13T00:00:00.000000000",
          "2025-01-14T00:00:00.000000000",
          "2025-01-15T00:00:00.000000000",
          "2025-01-16T00:00:00.000000000",
          "2025-01-17T00:00:00.000000000",
          "2025-01-21T00:00:00.000000000",
          "2025-01-22T00:00:00.000000000",
          "2025-01-23T00:00:00.000000000",
          "2025-01-24T00:00:00.000000000",
          "2025-01-27T00:00:00.000000000",
          "2025-01-28T00:00:00.000000000",
          "2025-01-29T00:00:00.000000000",
          "2025-01-30T00:00:00.000000000",
          "2025-01-31T00:00:00.000000000",
          "2025-02-03T00:00:00.000000000",
          "2025-02-04T00:00:00.000000000",
          "2025-02-05T00:00:00.000000000",
          "2025-02-06T00:00:00.000000000",
          "2025-02-07T00:00:00.000000000",
          "2025-02-10T00:00:00.000000000",
          "2025-02-11T00:00:00.000000000",
          "2025-02-12T00:00:00.000000000",
          "2025-02-13T00:00:00.000000000",
          "2025-02-14T00:00:00.000000000",
          "2025-02-18T00:00:00.000000000",
          "2025-02-19T00:00:00.000000000",
          "2025-02-20T00:00:00.000000000",
          "2025-02-21T00:00:00.000000000",
          "2025-02-24T00:00:00.000000000",
          "2025-02-25T00:00:00.000000000",
          "2025-02-26T00:00:00.000000000",
          "2025-02-27T00:00:00.000000000",
          "2025-02-28T00:00:00.000000000",
          "2025-03-03T00:00:00.000000000",
          "2025-03-04T00:00:00.000000000",
          "2025-03-05T00:00:00.000000000",
          "2025-03-06T00:00:00.000000000",
          "2025-03-07T00:00:00.000000000",
          "2025-03-10T00:00:00.000000000",
          "2025-03-11T00:00:00.000000000",
          "2025-03-12T00:00:00.000000000",
          "2025-03-13T00:00:00.000000000",
          "2025-03-14T00:00:00.000000000",
          "2025-03-17T00:00:00.000000000",
          "2025-03-18T00:00:00.000000000",
          "2025-03-19T00:00:00.000000000",
          "2025-03-20T00:00:00.000000000",
          "2025-03-21T00:00:00.000000000",
          "2025-03-24T00:00:00.000000000",
          "2025-03-25T00:00:00.000000000",
          "2025-03-26T00:00:00.000000000",
          "2025-03-27T00:00:00.000000000",
          "2025-03-28T00:00:00.000000000",
          "2025-03-31T00:00:00.000000000",
          "2025-04-01T00:00:00.000000000",
          "2025-04-02T00:00:00.000000000",
          "2025-04-03T00:00:00.000000000",
          "2025-04-04T00:00:00.000000000",
          "2025-04-07T00:00:00.000000000",
          "2025-04-08T00:00:00.000000000",
          "2025-04-09T00:00:00.000000000",
          "2025-04-10T00:00:00.000000000",
          "2025-04-11T00:00:00.000000000",
          "2025-04-14T00:00:00.000000000",
          "2025-04-15T00:00:00.000000000",
          "2025-04-16T00:00:00.000000000",
          "2025-04-17T00:00:00.000000000",
          "2025-04-21T00:00:00.000000000",
          "2025-04-22T00:00:00.000000000",
          "2025-04-23T00:00:00.000000000",
          "2025-04-24T00:00:00.000000000",
          "2025-04-25T00:00:00.000000000",
          "2025-04-28T00:00:00.000000000",
          "2025-04-29T00:00:00.000000000",
          "2025-04-30T00:00:00.000000000",
          "2025-05-01T00:00:00.000000000",
          "2025-05-02T00:00:00.000000000",
          "2025-05-05T00:00:00.000000000",
          "2025-05-06T00:00:00.000000000",
          "2025-05-07T00:00:00.000000000",
          "2025-05-08T00:00:00.000000000",
          "2025-05-09T00:00:00.000000000",
          "2025-05-12T00:00:00.000000000",
          "2025-05-13T00:00:00.000000000",
          "2025-05-14T00:00:00.000000000",
          "2025-05-15T00:00:00.000000000",
          "2025-05-16T00:00:00.000000000",
          "2025-05-19T00:00:00.000000000",
          "2025-05-20T00:00:00.000000000",
          "2025-05-21T00:00:00.000000000",
          "2025-05-22T00:00:00.000000000",
          "2025-05-23T00:00:00.000000000",
          "2025-05-27T00:00:00.000000000",
          "2025-05-28T00:00:00.000000000",
          "2025-05-29T00:00:00.000000000",
          "2025-05-30T00:00:00.000000000",
          "2025-06-02T00:00:00.000000000",
          "2025-06-03T00:00:00.000000000",
          "2025-06-04T00:00:00.000000000",
          "2025-06-05T00:00:00.000000000",
          "2025-06-06T00:00:00.000000000",
          "2025-06-09T00:00:00.000000000",
          "2025-06-10T00:00:00.000000000",
          "2025-06-11T00:00:00.000000000",
          "2025-06-12T00:00:00.000000000",
          "2025-06-13T00:00:00.000000000",
          "2025-06-16T00:00:00.000000000",
          "2025-06-17T00:00:00.000000000",
          "2025-06-18T00:00:00.000000000",
          "2025-06-20T00:00:00.000000000",
          "2025-06-23T00:00:00.000000000",
          "2025-06-24T00:00:00.000000000",
          "2025-06-25T00:00:00.000000000",
          "2025-06-26T00:00:00.000000000",
          "2025-06-27T00:00:00.000000000",
          "2025-06-30T00:00:00.000000000",
          "2025-07-01T00:00:00.000000000",
          "2025-07-02T00:00:00.000000000",
          "2025-07-03T00:00:00.000000000",
          "2025-07-07T00:00:00.000000000",
          "2025-07-08T00:00:00.000000000",
          "2025-07-09T00:00:00.000000000",
          "2025-07-10T00:00:00.000000000",
          "2025-07-11T00:00:00.000000000",
          "2025-07-14T00:00:00.000000000",
          "2025-07-15T00:00:00.000000000",
          "2025-07-16T00:00:00.000000000",
          "2025-07-17T00:00:00.000000000",
          "2025-07-18T00:00:00.000000000",
          "2025-07-21T00:00:00.000000000",
          "2025-07-22T00:00:00.000000000",
          "2025-07-23T00:00:00.000000000",
          "2025-07-24T00:00:00.000000000",
          "2025-07-25T00:00:00.000000000",
          "2025-07-28T00:00:00.000000000",
          "2025-07-29T00:00:00.000000000",
          "2025-07-30T00:00:00.000000000",
          "2025-07-31T00:00:00.000000000",
          "2025-08-01T00:00:00.000000000",
          "2025-08-04T00:00:00.000000000",
          "2025-08-05T00:00:00.000000000",
          "2025-08-06T00:00:00.000000000",
          "2025-08-07T00:00:00.000000000",
          "2025-08-08T00:00:00.000000000",
          "2025-08-11T00:00:00.000000000",
          "2025-08-12T00:00:00.000000000",
          "2025-08-13T00:00:00.000000000",
          "2025-08-14T00:00:00.000000000",
          "2025-08-15T00:00:00.000000000",
          "2025-08-18T00:00:00.000000000",
          "2025-08-19T00:00:00.000000000",
          "2025-08-20T00:00:00.000000000",
          "2025-08-21T00:00:00.000000000",
          "2025-08-22T00:00:00.000000000",
          "2025-08-25T00:00:00.000000000",
          "2025-08-26T00:00:00.000000000",
          "2025-08-27T00:00:00.000000000",
          "2025-08-28T00:00:00.000000000",
          "2025-08-29T00:00:00.000000000",
          "2025-09-02T00:00:00.000000000",
          "2025-09-03T00:00:00.000000000",
          "2025-09-04T00:00:00.000000000",
          "2025-09-05T00:00:00.000000000",
          "2025-09-08T00:00:00.000000000",
          "2025-09-09T00:00:00.000000000",
          "2025-09-10T00:00:00.000000000",
          "2025-09-11T00:00:00.000000000",
          "2025-09-12T00:00:00.000000000",
          "2025-09-15T00:00:00.000000000",
          "2025-09-16T00:00:00.000000000",
          "2025-09-17T00:00:00.000000000",
          "2025-09-18T00:00:00.000000000"
         ],
         "xaxis": "x3",
         "y": {
          "bdata": "AAAAAAAA8D8AAAAAAADwPwAAAAAAAPA/jmJHrgjo7z+lWMjl5vTvP7PFwpVH/u8/AAAAAAAA8D8AAAAAAADwPwAAAAAAAPA/AAAAAAAA8D90I7Py+9TvPyth0NSmp+8/U2QW5CPA7z8AAAAAAADwPwAAAAAAAPA/AAAAAAAA8D8AAAAAAADwPwAAAAAAAPA/AAAAAAAA8D8AAAAAAADwPwAAAAAAAPA/AAAAAAAA8D8AAAAAAADwPwAAAAAAAPA/AAAAAAAA8D8AAAAAAADwPwAAAAAAAPA/AAAAAAAA8D8AAAAAAADwPwAAAAAAAPA/AAAAAAAA8D8AAAAAAADwPwAAAAAAAPA/AAAAAAAA8D8AAAAAAADwPwAAAAAAAPA/AAAAAAAA8D8AAAAAAADwPwAAAAAAAPA/AAAAAAAA8D8AAAAAAADwPwAAAAAAAPA/AAAAAAAA8D9ZQnI8sfbvPwAAAAAAAPA/JYvsa3Ws7z8AAAAAAADwPwAAAAAAAPA/AAAAAAAA8D8AAAAAAADwPwAAAAAAAPA/AAAAAAAA8D8AAAAAAADwPwAAAAAAAPA/AAAAAAAA8D8AAAAAAADwPyxZKiHF3+8/AAAAAAAA8D8AAAAAAADwP97I9k2T9O8/AAAAAAAA8D8GKIq3FIXvP6nRXalEcu8/LZJB79/z7j8AAAAAAADwPwAAAAAAAPA/AAAAAAAA8D8AAAAAAADwPwAAAAAAAPA/AAAAAAAA8D8AAAAAAADwPwAAAAAAAPA/AAAAAAAA8D8AAAAAAADwPwAAAAAAAPA/AAAAAAAA8D8AAAAAAADwPwAAAAAAAPA/AAAAAAAA8D8AAAAAAADwPwAAAAAAAPA/AAAAAAAA8D8AAAAAAADwPwAAAAAAAPA/AAAAAAAA8D8AAAAAAADwP0qyNZMs4O8/JylYDWGg7z9cdzA9TJfvP/8N6E+gcu8/0s60oTM07z/z81wbVyzvP0a6a4cwT+8/mp/LEt3N7j8mdIsCW8ruPwDtFm56le4/XqnfY6k17z+BoR1vLGLvP7xVbN9NQu8/i+tIq/NC7z8lGwaAOyLvP5RhMhHH8+4/QdhSFi/z7j98Av7ssh3vP5H/4neXb+8/Kl6WNjBo7z9RjgLrBTzvP2Tr3R0/Uu8/1P+hcuVw7z91yeL80cvvPwAAAAAAAPA/AAAAAAAA8D8AAAAAAADwPwAAAAAAAPA/AAAAAAAA8D8AAAAAAADwPwAAAAAAAPA/WLXPh0b87z95SFCD3c/vP/Lqjsywo+8/D6mwm06t7z+/SEASjoTvP4kU/hGZPO8/SiUD+AGB7z8OqbkNMIfvP2BY6KLkUu8/KpKdUg877z/+K+K6wVfvP/nElZSMS+8/cAzG0ult7z9I1mWOSFLvPxv2ZW2kI+8/AJM9n24k7z/7K/F4ORjvP08qvXenEu8/qQKK8lrO7j8q+Qf1M8juP+n90eUope4/QgE9Dpij7j8ong70y73uP2S4pJXTyO4/fKpQPrWr7j9kusGTJC7uP+pn9OsAoO4/FySC2xbG7j/zGmPndP/uP08hhfLIBe8/Q0BEtPDH7j899A5f89vuP2fxEB6Ege4/h+8uP3pn7j9wYle4BmXuPwB73KR2fO4/6oOZwEZ97j+bG3GmhqzuPxEMw39ume4/KiIToxB67j8u9mfijPDuPzHDR5BXEu8/AZbmoDkz7z/VDyOzICDvP6NY5p3aBu8/06jW0T067z85Mqype3HvP8bstk6Jmu8/TIvwWgJX7z9ccJuj1HDvP0qPY0S0X+8/cTUdIMxJ7z/6ho04azHvP96lOiPf6+4/6qk+jdzv7j+pYP+U+sjuP61mdDOr0+4/yqjWFrbb7j+fKdL5DLTuP9dIbx1mi+4/akB3EIZm7j8=",
          "dtype": "f8"
         },
         "yaxis": "y3"
        },
        {
         "legendgroup": "8",
         "line": {
          "color": "#9467bd"
         },
         "name": "Value",
         "showlegend": true,
         "type": "scatter",
         "uid": "eaf643dc-4825-4be8-81cd-c11491ae28b0",
         "x": [
          "2025-01-02T00:00:00.000000000",
          "2025-01-03T00:00:00.000000000",
          "2025-01-06T00:00:00.000000000",
          "2025-01-07T00:00:00.000000000",
          "2025-01-08T00:00:00.000000000",
          "2025-01-10T00:00:00.000000000",
          "2025-01-13T00:00:00.000000000",
          "2025-01-14T00:00:00.000000000",
          "2025-01-15T00:00:00.000000000",
          "2025-01-16T00:00:00.000000000",
          "2025-01-17T00:00:00.000000000",
          "2025-01-21T00:00:00.000000000",
          "2025-01-22T00:00:00.000000000",
          "2025-01-23T00:00:00.000000000",
          "2025-01-24T00:00:00.000000000",
          "2025-01-27T00:00:00.000000000",
          "2025-01-28T00:00:00.000000000",
          "2025-01-29T00:00:00.000000000",
          "2025-01-30T00:00:00.000000000",
          "2025-01-31T00:00:00.000000000",
          "2025-02-03T00:00:00.000000000",
          "2025-02-04T00:00:00.000000000",
          "2025-02-05T00:00:00.000000000",
          "2025-02-06T00:00:00.000000000",
          "2025-02-07T00:00:00.000000000",
          "2025-02-10T00:00:00.000000000",
          "2025-02-11T00:00:00.000000000",
          "2025-02-12T00:00:00.000000000",
          "2025-02-13T00:00:00.000000000",
          "2025-02-14T00:00:00.000000000",
          "2025-02-18T00:00:00.000000000",
          "2025-02-19T00:00:00.000000000",
          "2025-02-20T00:00:00.000000000",
          "2025-02-21T00:00:00.000000000",
          "2025-02-24T00:00:00.000000000",
          "2025-02-25T00:00:00.000000000",
          "2025-02-26T00:00:00.000000000",
          "2025-02-27T00:00:00.000000000",
          "2025-02-28T00:00:00.000000000",
          "2025-03-03T00:00:00.000000000",
          "2025-03-04T00:00:00.000000000",
          "2025-03-05T00:00:00.000000000",
          "2025-03-06T00:00:00.000000000",
          "2025-03-07T00:00:00.000000000",
          "2025-03-10T00:00:00.000000000",
          "2025-03-11T00:00:00.000000000",
          "2025-03-12T00:00:00.000000000",
          "2025-03-13T00:00:00.000000000",
          "2025-03-14T00:00:00.000000000",
          "2025-03-17T00:00:00.000000000",
          "2025-03-18T00:00:00.000000000",
          "2025-03-19T00:00:00.000000000",
          "2025-03-20T00:00:00.000000000",
          "2025-03-21T00:00:00.000000000",
          "2025-03-24T00:00:00.000000000",
          "2025-03-25T00:00:00.000000000",
          "2025-03-26T00:00:00.000000000",
          "2025-03-27T00:00:00.000000000",
          "2025-03-28T00:00:00.000000000",
          "2025-03-31T00:00:00.000000000",
          "2025-04-01T00:00:00.000000000",
          "2025-04-02T00:00:00.000000000",
          "2025-04-03T00:00:00.000000000",
          "2025-04-04T00:00:00.000000000",
          "2025-04-07T00:00:00.000000000",
          "2025-04-08T00:00:00.000000000",
          "2025-04-09T00:00:00.000000000",
          "2025-04-10T00:00:00.000000000",
          "2025-04-11T00:00:00.000000000",
          "2025-04-14T00:00:00.000000000",
          "2025-04-15T00:00:00.000000000",
          "2025-04-16T00:00:00.000000000",
          "2025-04-17T00:00:00.000000000",
          "2025-04-21T00:00:00.000000000",
          "2025-04-22T00:00:00.000000000",
          "2025-04-23T00:00:00.000000000",
          "2025-04-24T00:00:00.000000000",
          "2025-04-25T00:00:00.000000000",
          "2025-04-28T00:00:00.000000000",
          "2025-04-29T00:00:00.000000000",
          "2025-04-30T00:00:00.000000000",
          "2025-05-01T00:00:00.000000000",
          "2025-05-02T00:00:00.000000000",
          "2025-05-05T00:00:00.000000000",
          "2025-05-06T00:00:00.000000000",
          "2025-05-07T00:00:00.000000000",
          "2025-05-08T00:00:00.000000000",
          "2025-05-09T00:00:00.000000000",
          "2025-05-12T00:00:00.000000000",
          "2025-05-13T00:00:00.000000000",
          "2025-05-14T00:00:00.000000000",
          "2025-05-15T00:00:00.000000000",
          "2025-05-16T00:00:00.000000000",
          "2025-05-19T00:00:00.000000000",
          "2025-05-20T00:00:00.000000000",
          "2025-05-21T00:00:00.000000000",
          "2025-05-22T00:00:00.000000000",
          "2025-05-23T00:00:00.000000000",
          "2025-05-27T00:00:00.000000000",
          "2025-05-28T00:00:00.000000000",
          "2025-05-29T00:00:00.000000000",
          "2025-05-30T00:00:00.000000000",
          "2025-06-02T00:00:00.000000000",
          "2025-06-03T00:00:00.000000000",
          "2025-06-04T00:00:00.000000000",
          "2025-06-05T00:00:00.000000000",
          "2025-06-06T00:00:00.000000000",
          "2025-06-09T00:00:00.000000000",
          "2025-06-10T00:00:00.000000000",
          "2025-06-11T00:00:00.000000000",
          "2025-06-12T00:00:00.000000000",
          "2025-06-13T00:00:00.000000000",
          "2025-06-16T00:00:00.000000000",
          "2025-06-17T00:00:00.000000000",
          "2025-06-18T00:00:00.000000000",
          "2025-06-20T00:00:00.000000000",
          "2025-06-23T00:00:00.000000000",
          "2025-06-24T00:00:00.000000000",
          "2025-06-25T00:00:00.000000000",
          "2025-06-26T00:00:00.000000000",
          "2025-06-27T00:00:00.000000000",
          "2025-06-30T00:00:00.000000000",
          "2025-07-01T00:00:00.000000000",
          "2025-07-02T00:00:00.000000000",
          "2025-07-03T00:00:00.000000000",
          "2025-07-07T00:00:00.000000000",
          "2025-07-08T00:00:00.000000000",
          "2025-07-09T00:00:00.000000000",
          "2025-07-10T00:00:00.000000000",
          "2025-07-11T00:00:00.000000000",
          "2025-07-14T00:00:00.000000000",
          "2025-07-15T00:00:00.000000000",
          "2025-07-16T00:00:00.000000000",
          "2025-07-17T00:00:00.000000000",
          "2025-07-18T00:00:00.000000000",
          "2025-07-21T00:00:00.000000000",
          "2025-07-22T00:00:00.000000000",
          "2025-07-23T00:00:00.000000000",
          "2025-07-24T00:00:00.000000000",
          "2025-07-25T00:00:00.000000000",
          "2025-07-28T00:00:00.000000000",
          "2025-07-29T00:00:00.000000000",
          "2025-07-30T00:00:00.000000000",
          "2025-07-31T00:00:00.000000000",
          "2025-08-01T00:00:00.000000000",
          "2025-08-04T00:00:00.000000000",
          "2025-08-05T00:00:00.000000000",
          "2025-08-06T00:00:00.000000000",
          "2025-08-07T00:00:00.000000000",
          "2025-08-08T00:00:00.000000000",
          "2025-08-11T00:00:00.000000000",
          "2025-08-12T00:00:00.000000000",
          "2025-08-13T00:00:00.000000000",
          "2025-08-14T00:00:00.000000000",
          "2025-08-15T00:00:00.000000000",
          "2025-08-18T00:00:00.000000000",
          "2025-08-19T00:00:00.000000000",
          "2025-08-20T00:00:00.000000000",
          "2025-08-21T00:00:00.000000000",
          "2025-08-22T00:00:00.000000000",
          "2025-08-25T00:00:00.000000000",
          "2025-08-26T00:00:00.000000000",
          "2025-08-27T00:00:00.000000000",
          "2025-08-28T00:00:00.000000000",
          "2025-08-29T00:00:00.000000000",
          "2025-09-02T00:00:00.000000000",
          "2025-09-03T00:00:00.000000000",
          "2025-09-04T00:00:00.000000000",
          "2025-09-05T00:00:00.000000000",
          "2025-09-08T00:00:00.000000000",
          "2025-09-09T00:00:00.000000000",
          "2025-09-10T00:00:00.000000000",
          "2025-09-11T00:00:00.000000000",
          "2025-09-12T00:00:00.000000000",
          "2025-09-15T00:00:00.000000000",
          "2025-09-16T00:00:00.000000000",
          "2025-09-17T00:00:00.000000000",
          "2025-09-18T00:00:00.000000000"
         ],
         "xaxis": "x3",
         "y": {
          "bdata": "AQAAAAAA8D8i7XhHey3wPy2KhZDxM/A/jmJHrgjo7z+lWMjl5vTvP7PFwpVH/u8/UaloHSJK8D/fZR148VLwP51vFBBeKfA/Y9qn+IME8D90I7Py+9TvPyth0NSmp+8/U2QW5CPA7z+NknJ3ax7wP3SRkNB0RPA/XTcm9/BX8D/Qkt8hE0LwPw9nOJwaV/A/bqW906V28D8VRfEZGZXwP9JJSWOBhPA/i8K8dPl08D9t2zAodZ3wP3ei5qUEgfA/HsKA35F/8D9H/YcSMYvwP5n4odbTXvA/Fxx3CCNf8D93Pe02oFTwP9txm8phSvA/Jy0/3hpd8D92UQbNf6bwP2NY331RkfA/EqNeWHh98D+GjONVC37wP4wF4UcQO/A/XOc4PvB88D9Bkn6eNsfwP6eUk5KpkvA/M3eS6AHC8D8gNoZNkHXwPzZSEzXTjPA/dyC8e4sa8D9ZQnI8sfbvPziP0A1XD/A/JYvsa3Ws7z+OQRI0cizwP2LUiW7hEfA/lBxdIEY+8D9E3N1XLWvwP16NAFZcdPA/XQf46+Zw8D8uLTho1SbwP9XPrN8bIPA//rwUWddP8D+FGv8oCELwPyxZKiHF3+8/wU1ZP3sG8D+JpUZ8/hXwP97I9k2T9O8/0gbR3uvC8D8GKIq3FIXvP6nRXalEcu8/LZJB79/z7j+VSedg7vLwP8cAN0sXifE/QYossU498T+9K3RQbRvxPxC98n7aIvE/NJq7HQKD8T8UPbLc9IjxP5zH2LwpH/E/i4ICl0GN8T+k9ZG+ZELxP8w0Jv7Y5fA/j1cz33vD8D+otyjMecDwPwLpNEU3pfA/a5nH9Die8D8bztfSaYDwPw+vGqZIOvA/2n+5/x5Z8D+a1FNAD37wP/xH9BFpkPA/SU7oLtF38D/nqHMM2nrwP0qyNZMs4O8/JylYDWGg7z9cdzA9TJfvP/8N6E+gcu8/0s60oTM07z/z81wbVyzvP0a6a4cwT+8/mp/LEt3N7j8mdIsCW8ruPwDtFm56le4/XqnfY6k17z+BoR1vLGLvP7xVbN9NQu8/i+tIq/NC7z8lGwaAOyLvP5RhMhHH8+4/QdhSFi/z7j98Av7ssh3vP5H/4neXb+8/Kl6WNjBo7z9RjgLrBTzvP2Tr3R0/Uu8/1P+hcuVw7z91yeL80cvvP0SgWj0jDPA/X0FMJ3Mu8D+jPZWktS/wP+ilzpeuJvA/aDuc22ZO8D/hDjO2+R/wPwVMTUL9H/A/WLXPh0b87z95SFCD3c/vP/Lqjsywo+8/D6mwm06t7z+/SEASjoTvP4kU/hGZPO8/SiUD+AGB7z8OqbkNMIfvP2BY6KLkUu8/KpKdUg877z/+K+K6wVfvP/nElZSMS+8/cAzG0ult7z9I1mWOSFLvPxv2ZW2kI+8/AJM9n24k7z/7K/F4ORjvP08qvXenEu8/qQKK8lrO7j8q+Qf1M8juP+n90eUope4/QgE9Dpij7j8ong70y73uP2S4pJXTyO4/fKpQPrWr7j9kusGTJC7uP+pn9OsAoO4/FySC2xbG7j/zGmPndP/uP08hhfLIBe8/Q0BEtPDH7j899A5f89vuP2fxEB6Ege4/h+8uP3pn7j9wYle4BmXuPwB73KR2fO4/6oOZwEZ97j+bG3GmhqzuPxEMw39ume4/KiIToxB67j8u9mfijPDuPzHDR5BXEu8/AZbmoDkz7z/VDyOzICDvP6NY5p3aBu8/06jW0T067z85Mqype3HvP8bstk6Jmu8/TIvwWgJX7z9ccJuj1HDvP0qPY0S0X+8/cTUdIMxJ7z/6ho04azHvP96lOiPf6+4/6qk+jdzv7j+pYP+U+sjuP61mdDOr0+4/yqjWFrbb7j+fKdL5DLTuP9dIbx1mi+4/akB3EIZm7j8=",
          "dtype": "f8"
         },
         "yaxis": "y3"
        },
        {
         "hoverinfo": "skip",
         "legendgroup": "7",
         "line": {
          "color": "rgba(0, 0, 0, 0)",
          "width": 0
         },
         "opacity": 0,
         "showlegend": false,
         "type": "scatter",
         "uid": "4e155842-150c-4608-8356-3bb98a455cb5",
         "x": [
          "2025-01-02T00:00:00.000000000",
          "2025-01-03T00:00:00.000000000",
          "2025-01-06T00:00:00.000000000",
          "2025-01-07T00:00:00.000000000",
          "2025-01-08T00:00:00.000000000",
          "2025-01-10T00:00:00.000000000",
          "2025-01-13T00:00:00.000000000",
          "2025-01-14T00:00:00.000000000",
          "2025-01-15T00:00:00.000000000",
          "2025-01-16T00:00:00.000000000",
          "2025-01-17T00:00:00.000000000",
          "2025-01-21T00:00:00.000000000",
          "2025-01-22T00:00:00.000000000",
          "2025-01-23T00:00:00.000000000",
          "2025-01-24T00:00:00.000000000",
          "2025-01-27T00:00:00.000000000",
          "2025-01-28T00:00:00.000000000",
          "2025-01-29T00:00:00.000000000",
          "2025-01-30T00:00:00.000000000",
          "2025-01-31T00:00:00.000000000",
          "2025-02-03T00:00:00.000000000",
          "2025-02-04T00:00:00.000000000",
          "2025-02-05T00:00:00.000000000",
          "2025-02-06T00:00:00.000000000",
          "2025-02-07T00:00:00.000000000",
          "2025-02-10T00:00:00.000000000",
          "2025-02-11T00:00:00.000000000",
          "2025-02-12T00:00:00.000000000",
          "2025-02-13T00:00:00.000000000",
          "2025-02-14T00:00:00.000000000",
          "2025-02-18T00:00:00.000000000",
          "2025-02-19T00:00:00.000000000",
          "2025-02-20T00:00:00.000000000",
          "2025-02-21T00:00:00.000000000",
          "2025-02-24T00:00:00.000000000",
          "2025-02-25T00:00:00.000000000",
          "2025-02-26T00:00:00.000000000",
          "2025-02-27T00:00:00.000000000",
          "2025-02-28T00:00:00.000000000",
          "2025-03-03T00:00:00.000000000",
          "2025-03-04T00:00:00.000000000",
          "2025-03-05T00:00:00.000000000",
          "2025-03-06T00:00:00.000000000",
          "2025-03-07T00:00:00.000000000",
          "2025-03-10T00:00:00.000000000",
          "2025-03-11T00:00:00.000000000",
          "2025-03-12T00:00:00.000000000",
          "2025-03-13T00:00:00.000000000",
          "2025-03-14T00:00:00.000000000",
          "2025-03-17T00:00:00.000000000",
          "2025-03-18T00:00:00.000000000",
          "2025-03-19T00:00:00.000000000",
          "2025-03-20T00:00:00.000000000",
          "2025-03-21T00:00:00.000000000",
          "2025-03-24T00:00:00.000000000",
          "2025-03-25T00:00:00.000000000",
          "2025-03-26T00:00:00.000000000",
          "2025-03-27T00:00:00.000000000",
          "2025-03-28T00:00:00.000000000",
          "2025-03-31T00:00:00.000000000",
          "2025-04-01T00:00:00.000000000",
          "2025-04-02T00:00:00.000000000",
          "2025-04-03T00:00:00.000000000",
          "2025-04-04T00:00:00.000000000",
          "2025-04-07T00:00:00.000000000",
          "2025-04-08T00:00:00.000000000",
          "2025-04-09T00:00:00.000000000",
          "2025-04-10T00:00:00.000000000",
          "2025-04-11T00:00:00.000000000",
          "2025-04-14T00:00:00.000000000",
          "2025-04-15T00:00:00.000000000",
          "2025-04-16T00:00:00.000000000",
          "2025-04-17T00:00:00.000000000",
          "2025-04-21T00:00:00.000000000",
          "2025-04-22T00:00:00.000000000",
          "2025-04-23T00:00:00.000000000",
          "2025-04-24T00:00:00.000000000",
          "2025-04-25T00:00:00.000000000",
          "2025-04-28T00:00:00.000000000",
          "2025-04-29T00:00:00.000000000",
          "2025-04-30T00:00:00.000000000",
          "2025-05-01T00:00:00.000000000",
          "2025-05-02T00:00:00.000000000",
          "2025-05-05T00:00:00.000000000",
          "2025-05-06T00:00:00.000000000",
          "2025-05-07T00:00:00.000000000",
          "2025-05-08T00:00:00.000000000",
          "2025-05-09T00:00:00.000000000",
          "2025-05-12T00:00:00.000000000",
          "2025-05-13T00:00:00.000000000",
          "2025-05-14T00:00:00.000000000",
          "2025-05-15T00:00:00.000000000",
          "2025-05-16T00:00:00.000000000",
          "2025-05-19T00:00:00.000000000",
          "2025-05-20T00:00:00.000000000",
          "2025-05-21T00:00:00.000000000",
          "2025-05-22T00:00:00.000000000",
          "2025-05-23T00:00:00.000000000",
          "2025-05-27T00:00:00.000000000",
          "2025-05-28T00:00:00.000000000",
          "2025-05-29T00:00:00.000000000",
          "2025-05-30T00:00:00.000000000",
          "2025-06-02T00:00:00.000000000",
          "2025-06-03T00:00:00.000000000",
          "2025-06-04T00:00:00.000000000",
          "2025-06-05T00:00:00.000000000",
          "2025-06-06T00:00:00.000000000",
          "2025-06-09T00:00:00.000000000",
          "2025-06-10T00:00:00.000000000",
          "2025-06-11T00:00:00.000000000",
          "2025-06-12T00:00:00.000000000",
          "2025-06-13T00:00:00.000000000",
          "2025-06-16T00:00:00.000000000",
          "2025-06-17T00:00:00.000000000",
          "2025-06-18T00:00:00.000000000",
          "2025-06-20T00:00:00.000000000",
          "2025-06-23T00:00:00.000000000",
          "2025-06-24T00:00:00.000000000",
          "2025-06-25T00:00:00.000000000",
          "2025-06-26T00:00:00.000000000",
          "2025-06-27T00:00:00.000000000",
          "2025-06-30T00:00:00.000000000",
          "2025-07-01T00:00:00.000000000",
          "2025-07-02T00:00:00.000000000",
          "2025-07-03T00:00:00.000000000",
          "2025-07-07T00:00:00.000000000",
          "2025-07-08T00:00:00.000000000",
          "2025-07-09T00:00:00.000000000",
          "2025-07-10T00:00:00.000000000",
          "2025-07-11T00:00:00.000000000",
          "2025-07-14T00:00:00.000000000",
          "2025-07-15T00:00:00.000000000",
          "2025-07-16T00:00:00.000000000",
          "2025-07-17T00:00:00.000000000",
          "2025-07-18T00:00:00.000000000",
          "2025-07-21T00:00:00.000000000",
          "2025-07-22T00:00:00.000000000",
          "2025-07-23T00:00:00.000000000",
          "2025-07-24T00:00:00.000000000",
          "2025-07-25T00:00:00.000000000",
          "2025-07-28T00:00:00.000000000",
          "2025-07-29T00:00:00.000000000",
          "2025-07-30T00:00:00.000000000",
          "2025-07-31T00:00:00.000000000",
          "2025-08-01T00:00:00.000000000",
          "2025-08-04T00:00:00.000000000",
          "2025-08-05T00:00:00.000000000",
          "2025-08-06T00:00:00.000000000",
          "2025-08-07T00:00:00.000000000",
          "2025-08-08T00:00:00.000000000",
          "2025-08-11T00:00:00.000000000",
          "2025-08-12T00:00:00.000000000",
          "2025-08-13T00:00:00.000000000",
          "2025-08-14T00:00:00.000000000",
          "2025-08-15T00:00:00.000000000",
          "2025-08-18T00:00:00.000000000",
          "2025-08-19T00:00:00.000000000",
          "2025-08-20T00:00:00.000000000",
          "2025-08-21T00:00:00.000000000",
          "2025-08-22T00:00:00.000000000",
          "2025-08-25T00:00:00.000000000",
          "2025-08-26T00:00:00.000000000",
          "2025-08-27T00:00:00.000000000",
          "2025-08-28T00:00:00.000000000",
          "2025-08-29T00:00:00.000000000",
          "2025-09-02T00:00:00.000000000",
          "2025-09-03T00:00:00.000000000",
          "2025-09-04T00:00:00.000000000",
          "2025-09-05T00:00:00.000000000",
          "2025-09-08T00:00:00.000000000",
          "2025-09-09T00:00:00.000000000",
          "2025-09-10T00:00:00.000000000",
          "2025-09-11T00:00:00.000000000",
          "2025-09-12T00:00:00.000000000",
          "2025-09-15T00:00:00.000000000",
          "2025-09-16T00:00:00.000000000",
          "2025-09-17T00:00:00.000000000",
          "2025-09-18T00:00:00.000000000"
         ],
         "xaxis": "x3",
         "y": {
          "bdata": "AQEBAQEBAQEBAQEBAQEBAQEBAQEBAQEBAQEBAQEBAQEBAQEBAQEBAQEBAQEBAQEBAQEBAQEBAQEBAQEBAQEBAQEBAQEBAQEBAQEBAQEBAQEBAQEBAQEBAQEBAQEBAQEBAQEBAQEBAQEBAQEBAQEBAQEBAQEBAQEBAQEBAQEBAQEBAQEBAQEBAQEBAQEBAQEBAQEBAQEBAQEBAQEBAQEBAQEBAQEBAQEBAQEBAQEBAQEBAQ==",
          "dtype": "i1"
         },
         "yaxis": "y3"
        }
       ],
       "layout": {
        "annotations": [
         {
          "font": {
           "size": 16
          },
          "showarrow": false,
          "text": "Orders",
          "x": 0.5,
          "xanchor": "center",
          "xref": "paper",
          "y": 1,
          "yanchor": "bottom",
          "yref": "paper"
         },
         {
          "font": {
           "size": 16
          },
          "showarrow": false,
          "text": "Trade PnL",
          "x": 0.5,
          "xanchor": "center",
          "xref": "paper",
          "y": 0.6527777777777777,
          "yanchor": "bottom",
          "yref": "paper"
         },
         {
          "font": {
           "size": 16
          },
          "showarrow": false,
          "text": "Cumulative Returns",
          "x": 0.5,
          "xanchor": "center",
          "xref": "paper",
          "y": 0.3055555555555555,
          "yanchor": "bottom",
          "yref": "paper"
         }
        ],
        "height": 960,
        "legend": {
         "orientation": "h",
         "traceorder": "normal",
         "x": 1,
         "xanchor": "right",
         "y": 1.0416666666666667,
         "yanchor": "bottom"
        },
        "margin": {
         "b": 30,
         "l": 30,
         "r": 30,
         "t": 30
        },
        "shapes": [
         {
          "line": {
           "color": "gray",
           "dash": "dash"
          },
          "type": "line",
          "x0": 0,
          "x1": 1,
          "xref": "paper",
          "y0": 0,
          "y1": 0,
          "yref": "y2"
         },
         {
          "line": {
           "color": "gray",
           "dash": "dash"
          },
          "type": "line",
          "x0": 0,
          "x1": 1,
          "xref": "paper",
          "y0": 1,
          "y1": 1,
          "yref": "y3"
         }
        ],
        "showlegend": true,
        "template": {
         "data": {
          "bar": [
           {
            "error_x": {
             "color": "#2a3f5f"
            },
            "error_y": {
             "color": "#2a3f5f"
            },
            "marker": {
             "line": {
              "color": "#E5ECF6",
              "width": 0.5
             }
            },
            "type": "bar"
           }
          ],
          "barpolar": [
           {
            "marker": {
             "line": {
              "color": "#E5ECF6",
              "width": 0.5
             }
            },
            "type": "barpolar"
           }
          ],
          "carpet": [
           {
            "aaxis": {
             "endlinecolor": "#2a3f5f",
             "gridcolor": "white",
             "linecolor": "white",
             "minorgridcolor": "white",
             "startlinecolor": "#2a3f5f"
            },
            "baxis": {
             "endlinecolor": "#2a3f5f",
             "gridcolor": "white",
             "linecolor": "white",
             "minorgridcolor": "white",
             "startlinecolor": "#2a3f5f"
            },
            "type": "carpet"
           }
          ],
          "choropleth": [
           {
            "colorbar": {
             "outlinewidth": 0,
             "ticks": ""
            },
            "type": "choropleth"
           }
          ],
          "contour": [
           {
            "colorbar": {
             "outlinewidth": 0,
             "ticks": ""
            },
            "colorscale": [
             [
              0,
              "#0d0887"
             ],
             [
              0.1111111111111111,
              "#46039f"
             ],
             [
              0.2222222222222222,
              "#7201a8"
             ],
             [
              0.3333333333333333,
              "#9c179e"
             ],
             [
              0.4444444444444444,
              "#bd3786"
             ],
             [
              0.5555555555555556,
              "#d8576b"
             ],
             [
              0.6666666666666666,
              "#ed7953"
             ],
             [
              0.7777777777777778,
              "#fb9f3a"
             ],
             [
              0.8888888888888888,
              "#fdca26"
             ],
             [
              1,
              "#f0f921"
             ]
            ],
            "type": "contour"
           }
          ],
          "contourcarpet": [
           {
            "colorbar": {
             "outlinewidth": 0,
             "ticks": ""
            },
            "type": "contourcarpet"
           }
          ],
          "heatmap": [
           {
            "colorbar": {
             "outlinewidth": 0,
             "ticks": ""
            },
            "colorscale": [
             [
              0,
              "#0d0887"
             ],
             [
              0.1111111111111111,
              "#46039f"
             ],
             [
              0.2222222222222222,
              "#7201a8"
             ],
             [
              0.3333333333333333,
              "#9c179e"
             ],
             [
              0.4444444444444444,
              "#bd3786"
             ],
             [
              0.5555555555555556,
              "#d8576b"
             ],
             [
              0.6666666666666666,
              "#ed7953"
             ],
             [
              0.7777777777777778,
              "#fb9f3a"
             ],
             [
              0.8888888888888888,
              "#fdca26"
             ],
             [
              1,
              "#f0f921"
             ]
            ],
            "type": "heatmap"
           }
          ],
          "histogram": [
           {
            "marker": {
             "colorbar": {
              "outlinewidth": 0,
              "ticks": ""
             }
            },
            "type": "histogram"
           }
          ],
          "histogram2d": [
           {
            "colorbar": {
             "outlinewidth": 0,
             "ticks": ""
            },
            "colorscale": [
             [
              0,
              "#0d0887"
             ],
             [
              0.1111111111111111,
              "#46039f"
             ],
             [
              0.2222222222222222,
              "#7201a8"
             ],
             [
              0.3333333333333333,
              "#9c179e"
             ],
             [
              0.4444444444444444,
              "#bd3786"
             ],
             [
              0.5555555555555556,
              "#d8576b"
             ],
             [
              0.6666666666666666,
              "#ed7953"
             ],
             [
              0.7777777777777778,
              "#fb9f3a"
             ],
             [
              0.8888888888888888,
              "#fdca26"
             ],
             [
              1,
              "#f0f921"
             ]
            ],
            "type": "histogram2d"
           }
          ],
          "histogram2dcontour": [
           {
            "colorbar": {
             "outlinewidth": 0,
             "ticks": ""
            },
            "colorscale": [
             [
              0,
              "#0d0887"
             ],
             [
              0.1111111111111111,
              "#46039f"
             ],
             [
              0.2222222222222222,
              "#7201a8"
             ],
             [
              0.3333333333333333,
              "#9c179e"
             ],
             [
              0.4444444444444444,
              "#bd3786"
             ],
             [
              0.5555555555555556,
              "#d8576b"
             ],
             [
              0.6666666666666666,
              "#ed7953"
             ],
             [
              0.7777777777777778,
              "#fb9f3a"
             ],
             [
              0.8888888888888888,
              "#fdca26"
             ],
             [
              1,
              "#f0f921"
             ]
            ],
            "type": "histogram2dcontour"
           }
          ],
          "mesh3d": [
           {
            "colorbar": {
             "outlinewidth": 0,
             "ticks": ""
            },
            "type": "mesh3d"
           }
          ],
          "parcoords": [
           {
            "line": {
             "colorbar": {
              "outlinewidth": 0,
              "ticks": ""
             }
            },
            "type": "parcoords"
           }
          ],
          "pie": [
           {
            "automargin": true,
            "type": "pie"
           }
          ],
          "scatter": [
           {
            "marker": {
             "colorbar": {
              "outlinewidth": 0,
              "ticks": ""
             }
            },
            "type": "scatter"
           }
          ],
          "scatter3d": [
           {
            "line": {
             "colorbar": {
              "outlinewidth": 0,
              "ticks": ""
             }
            },
            "marker": {
             "colorbar": {
              "outlinewidth": 0,
              "ticks": ""
             }
            },
            "type": "scatter3d"
           }
          ],
          "scattercarpet": [
           {
            "marker": {
             "colorbar": {
              "outlinewidth": 0,
              "ticks": ""
             }
            },
            "type": "scattercarpet"
           }
          ],
          "scattergeo": [
           {
            "marker": {
             "colorbar": {
              "outlinewidth": 0,
              "ticks": ""
             }
            },
            "type": "scattergeo"
           }
          ],
          "scattergl": [
           {
            "marker": {
             "colorbar": {
              "outlinewidth": 0,
              "ticks": ""
             }
            },
            "type": "scattergl"
           }
          ],
          "scattermapbox": [
           {
            "marker": {
             "colorbar": {
              "outlinewidth": 0,
              "ticks": ""
             }
            },
            "type": "scattermapbox"
           }
          ],
          "scatterpolar": [
           {
            "marker": {
             "colorbar": {
              "outlinewidth": 0,
              "ticks": ""
             }
            },
            "type": "scatterpolar"
           }
          ],
          "scatterpolargl": [
           {
            "marker": {
             "colorbar": {
              "outlinewidth": 0,
              "ticks": ""
             }
            },
            "type": "scatterpolargl"
           }
          ],
          "scatterternary": [
           {
            "marker": {
             "colorbar": {
              "outlinewidth": 0,
              "ticks": ""
             }
            },
            "type": "scatterternary"
           }
          ],
          "surface": [
           {
            "colorbar": {
             "outlinewidth": 0,
             "ticks": ""
            },
            "colorscale": [
             [
              0,
              "#0d0887"
             ],
             [
              0.1111111111111111,
              "#46039f"
             ],
             [
              0.2222222222222222,
              "#7201a8"
             ],
             [
              0.3333333333333333,
              "#9c179e"
             ],
             [
              0.4444444444444444,
              "#bd3786"
             ],
             [
              0.5555555555555556,
              "#d8576b"
             ],
             [
              0.6666666666666666,
              "#ed7953"
             ],
             [
              0.7777777777777778,
              "#fb9f3a"
             ],
             [
              0.8888888888888888,
              "#fdca26"
             ],
             [
              1,
              "#f0f921"
             ]
            ],
            "type": "surface"
           }
          ],
          "table": [
           {
            "cells": {
             "fill": {
              "color": "#EBF0F8"
             },
             "line": {
              "color": "white"
             }
            },
            "header": {
             "fill": {
              "color": "#C8D4E3"
             },
             "line": {
              "color": "white"
             }
            },
            "type": "table"
           }
          ]
         },
         "layout": {
          "annotationdefaults": {
           "arrowcolor": "#2a3f5f",
           "arrowhead": 0,
           "arrowwidth": 1
          },
          "coloraxis": {
           "colorbar": {
            "outlinewidth": 0,
            "ticks": ""
           }
          },
          "colorscale": {
           "diverging": [
            [
             0,
             "#8e0152"
            ],
            [
             0.1,
             "#c51b7d"
            ],
            [
             0.2,
             "#de77ae"
            ],
            [
             0.3,
             "#f1b6da"
            ],
            [
             0.4,
             "#fde0ef"
            ],
            [
             0.5,
             "#f7f7f7"
            ],
            [
             0.6,
             "#e6f5d0"
            ],
            [
             0.7,
             "#b8e186"
            ],
            [
             0.8,
             "#7fbc41"
            ],
            [
             0.9,
             "#4d9221"
            ],
            [
             1,
             "#276419"
            ]
           ],
           "sequential": [
            [
             0,
             "#0d0887"
            ],
            [
             0.1111111111111111,
             "#46039f"
            ],
            [
             0.2222222222222222,
             "#7201a8"
            ],
            [
             0.3333333333333333,
             "#9c179e"
            ],
            [
             0.4444444444444444,
             "#bd3786"
            ],
            [
             0.5555555555555556,
             "#d8576b"
            ],
            [
             0.6666666666666666,
             "#ed7953"
            ],
            [
             0.7777777777777778,
             "#fb9f3a"
            ],
            [
             0.8888888888888888,
             "#fdca26"
            ],
            [
             1,
             "#f0f921"
            ]
           ],
           "sequentialminus": [
            [
             0,
             "#0d0887"
            ],
            [
             0.1111111111111111,
             "#46039f"
            ],
            [
             0.2222222222222222,
             "#7201a8"
            ],
            [
             0.3333333333333333,
             "#9c179e"
            ],
            [
             0.4444444444444444,
             "#bd3786"
            ],
            [
             0.5555555555555556,
             "#d8576b"
            ],
            [
             0.6666666666666666,
             "#ed7953"
            ],
            [
             0.7777777777777778,
             "#fb9f3a"
            ],
            [
             0.8888888888888888,
             "#fdca26"
            ],
            [
             1,
             "#f0f921"
            ]
           ]
          },
          "colorway": [
           "#1f77b4",
           "#ff7f0e",
           "#2ca02c",
           "#dc3912",
           "#9467bd",
           "#8c564b",
           "#e377c2",
           "#7f7f7f",
           "#bcbd22",
           "#17becf"
          ],
          "font": {
           "color": "#2a3f5f"
          },
          "geo": {
           "bgcolor": "white",
           "lakecolor": "white",
           "landcolor": "#E5ECF6",
           "showlakes": true,
           "showland": true,
           "subunitcolor": "white"
          },
          "hoverlabel": {
           "align": "left"
          },
          "hovermode": "closest",
          "mapbox": {
           "style": "light"
          },
          "paper_bgcolor": "white",
          "plot_bgcolor": "#E5ECF6",
          "polar": {
           "angularaxis": {
            "gridcolor": "white",
            "linecolor": "white",
            "ticks": ""
           },
           "bgcolor": "#E5ECF6",
           "radialaxis": {
            "gridcolor": "white",
            "linecolor": "white",
            "ticks": ""
           }
          },
          "scene": {
           "xaxis": {
            "backgroundcolor": "#E5ECF6",
            "gridcolor": "white",
            "gridwidth": 2,
            "linecolor": "white",
            "showbackground": true,
            "ticks": "",
            "zerolinecolor": "white"
           },
           "yaxis": {
            "backgroundcolor": "#E5ECF6",
            "gridcolor": "white",
            "gridwidth": 2,
            "linecolor": "white",
            "showbackground": true,
            "ticks": "",
            "zerolinecolor": "white"
           },
           "zaxis": {
            "backgroundcolor": "#E5ECF6",
            "gridcolor": "white",
            "gridwidth": 2,
            "linecolor": "white",
            "showbackground": true,
            "ticks": "",
            "zerolinecolor": "white"
           }
          },
          "shapedefaults": {
           "line": {
            "color": "#2a3f5f"
           }
          },
          "ternary": {
           "aaxis": {
            "gridcolor": "white",
            "linecolor": "white",
            "ticks": ""
           },
           "baxis": {
            "gridcolor": "white",
            "linecolor": "white",
            "ticks": ""
           },
           "bgcolor": "#E5ECF6",
           "caxis": {
            "gridcolor": "white",
            "linecolor": "white",
            "ticks": ""
           }
          },
          "title": {
           "x": 0.05
          },
          "xaxis": {
           "automargin": true,
           "gridcolor": "white",
           "linecolor": "white",
           "ticks": "",
           "title": {
            "standoff": 15
           },
           "zerolinecolor": "white",
           "zerolinewidth": 2
          },
          "yaxis": {
           "automargin": true,
           "gridcolor": "white",
           "linecolor": "white",
           "ticks": "",
           "title": {
            "standoff": 15
           },
           "zerolinecolor": "white",
           "zerolinewidth": 2
          }
         }
        },
        "width": 750,
        "xaxis": {
         "anchor": "y",
         "domain": [
          0,
          1
         ],
         "matches": "x3",
         "showticklabels": false
        },
        "xaxis2": {
         "anchor": "y2",
         "domain": [
          0,
          1
         ],
         "matches": "x3",
         "showticklabels": false
        },
        "xaxis3": {
         "anchor": "y3",
         "domain": [
          0,
          1
         ],
         "title": {
          "text": "Index"
         }
        },
        "yaxis": {
         "anchor": "x",
         "domain": [
          0.6944444444444444,
          1
         ],
         "title": {
          "text": "Price"
         }
        },
        "yaxis2": {
         "anchor": "x2",
         "domain": [
          0.3472222222222222,
          0.6527777777777777
         ],
         "tickformat": ".2%",
         "title": {
          "text": "Trade PnL"
         }
        },
        "yaxis3": {
         "anchor": "x3",
         "domain": [
          0,
          0.3055555555555555
         ],
         "title": {
          "text": "Cumulative returns"
         }
        }
       }
      }
     },
     "metadata": {},
     "output_type": "display_data"
    },
    {
     "name": "stdout",
     "output_type": "stream",
     "text": [
      "Start                         2025-01-02 00:00:00\n",
      "End                           2025-09-18 00:00:00\n",
      "Period                                        178\n",
      "Start Value                                 100.0\n",
      "End Value                                95.00151\n",
      "Total Return [%]                         -4.99849\n",
      "Benchmark Return [%]                    12.022164\n",
      "Max Gross Exposure [%]                      100.0\n",
      "Total Fees Paid                               0.0\n",
      "Max Drawdown [%]                        14.025124\n",
      "Max Drawdown Duration                       105.0\n",
      "Total Trades                                   41\n",
      "Total Closed Trades                            40\n",
      "Total Open Trades                               1\n",
      "Open Trade PnL                           -3.75992\n",
      "Win Rate [%]                                 67.5\n",
      "Best Trade [%]                           4.199309\n",
      "Worst Trade [%]                         -6.035637\n",
      "Avg Winning Trade [%]                    0.997381\n",
      "Avg Losing Trade [%]                    -2.103051\n",
      "Avg Winning Trade Duration               2.333333\n",
      "Avg Losing Trade Duration                7.769231\n",
      "Profit Factor                            0.956435\n",
      "Expectancy                              -0.030964\n",
      "dtype: object\n",
      "\n",
      "✅ MAE global (2025-01-01 ➜ 2025-09-18): 67.56\n",
      "\n",
      "            Valeur réelle  Prédiction  Signal achat\n",
      "2025-01-02        5975.38   5939.7612         False\n",
      "2025-01-03        5909.03   5980.9155          True\n",
      "2025-01-06        5918.25   5949.0268          True\n",
      "2025-01-07        5827.04   5932.6917          True\n",
      "2025-01-08        5836.22   5956.4753          True\n",
      "Retour cumulé du portefeuille: 4.30%\n"
     ]
    },
    {
     "data": {
      "image/png": "[encoded data removed]",
      "text/plain": [
       "<Figure size 1400x700 with 2 Axes>"
      ]
     },
     "metadata": {},
     "output_type": "display_data"
    },
    {
     "data": {
      "image/png": "[encoded data removed]",
      "text/plain": [
       "<Figure size 1200x600 with 1 Axes>"
      ]
     },
     "metadata": {},
     "output_type": "display_data"
    }
   ],
   "source": [
    "import pandas as pd\n",
    "import numpy as np\n",
    "from sklearn.ensemble import RandomForestRegressor\n",
    "from sklearn.metrics import mean_absolute_error\n",
    "import matplotlib.pyplot as plt\n",
    "\n",
    "window_years = 3  # nombre d'années de données pour entraîner (ex : 3 ans)\n",
    "trading_days_per_year = 250\n",
    "window_size = window_years * trading_days_per_year  # ~750 jours\n",
    "start_date = '2020-01-01'\n",
    "end_date = '2025-09-18'\n",
    "df = data.copy()\n",
    "\n",
    "features = df.drop(columns=['cible'])\n",
    "target = df['cible']\n",
    "\n",
    "# === Initialisation des listes === #\n",
    "predictions = []\n",
    "true_values = []\n",
    "prediction_dates = []\n",
    "signals = []          # signal d'achat (True) ou non (False)\n",
    "portfolio_returns = []  # rendement journalier du portefeuille\n",
    "\n",
    "for current_date in pd.date_range(start=start_date, end=end_date, freq='B'):  # freq='B' = jours ouvrés\n",
    "    if current_date not in df.index:\n",
    "        continue\n",
    "\n",
    "    end_train_idx = df.index.get_loc(current_date)\n",
    "    start_train_idx = end_train_idx - window_size\n",
    "\n",
    "    if start_train_idx < 0:\n",
    "        continue  # pas assez d'historique\n",
    "\n",
    "    # Définir les fenêtres d'entraînement et de test\n",
    "    X_train = features.iloc[start_train_idx:end_train_idx]\n",
    "    y_train = target.iloc[start_train_idx:end_train_idx]\n",
    "\n",
    "    X_test = features.loc[[current_date]]\n",
    "    y_test = target.loc[current_date]\n",
    "\n",
    "    # Entraîner le modèle\n",
    "    model = RandomForestRegressor(n_estimators=250, random_state=42, n_jobs=-1)\n",
    "    model.fit(X_train, y_train)\n",
    "\n",
    "    # Prédire\n",
    "    y_pred = model.predict(X_test)[0]\n",
    "\n",
    "    # Stocker\n",
    "    predictions.append(y_pred)\n",
    "    true_values.append(y_test)\n",
    "    prediction_dates.append(current_date)\n",
    "\n",
    "    # Calculer le signal : acheter si la prédiction est plus haute que le dernier prix connu\n",
    "    last_price = y_train.iloc[-1]\n",
    "    signal = y_pred > last_price\n",
    "    signals.append(signal)\n",
    "\n",
    "    print(f\"Date {current_date.date()} : entraînement modèle, prédiction et backtesting...\")\n",
    "\n",
    "# Pour aligner les dates des rendements (décalage d’un jour par rapport aux signaux)\n",
    "returns_dates = prediction_dates[1:]\n",
    "\n",
    "# === Résultats === #\n",
    "results = pd.DataFrame({\n",
    "    'Valeur réelle': true_values,\n",
    "    'Prédiction': predictions,\n",
    "    'Signal achat': signals\n",
    "}, index=prediction_dates)\n",
    "\n",
    "previous_price = df['cible'].reindex(results.index)\n",
    "long_entries = results['Prédiction'] > previous_price\n",
    "long_exits = results['Prédiction'] < previous_price\n",
    "\n",
    "short_entries = results['Prédiction'] < previous_price\n",
    "short_exits = results['Prédiction'] > previous_price\n",
    "price = df['cible'].reindex(results.index)\n",
    "\n",
    "portfolio = vbt.Portfolio.from_signals(\n",
    "    close=price,\n",
    "    entries=long_entries,\n",
    "    exits = long_exits,\n",
    "    short_entries = short_entries,\n",
    "    short_exits = short_exits\n",
    ")\n",
    "\n",
    "portfolio.plot().show()\n",
    "print(portfolio.stats())\n",
    "\n",
    "# === Évaluation === #\n",
    "mae = mean_absolute_error(results['Valeur réelle'], results['Prédiction'])\n",
    "print(f\"\\n✅ MAE global ({start_date} ➜ {end_date}): {mae:.2f}\\n\")\n",
    "\n",
    "print(results.head())\n",
    "\n",
    "# === Performance portefeuille === #\n",
    "portfolio_returns = np.array(portfolio_returns)\n",
    "cumulative_returns = np.cumprod(1 + portfolio_returns) - 1\n",
    "\n",
    "print(f\"Retour cumulé du portefeuille: {cumulative_returns[-1]:.2%}\")\n",
    "\n",
    "# === Affichage === #\n",
    "plt.figure(figsize=(12,6))\n",
    "plt.plot(results.index, results['Valeur réelle'], label='Valeur réelle', color='blue')\n",
    "plt.plot(results.index, results['Prédiction'], label='Prédiction', color='red', alpha=0.7)\n",
    "plt.title(\"Modèle Random Forest avec fenêtre glissante\")\n",
    "plt.xlabel(\"Date\")\n",
    "plt.ylabel(\"S&P 500 (ou cible)\")\n",
    "plt.legend()\n",
    "plt.grid(True, alpha=0.3)\n",
    "plt.tight_layout()\n",
    "plt.show()\n",
    "\n"
   ]
  },
  {
   "cell_type": "code",
   "execution_count": null,
   "id": "7c0f4db5",
   "metadata": {},
   "outputs": [
    {
     "name": "stdout",
     "output_type": "stream",
     "text": [
      "            Valeur réelle  Prédiction  Signal achat\n",
      "2025-01-02        5975.38   5939.7612         False\n",
      "2025-01-03        5909.03   5980.9155          True\n",
      "2025-01-06        5918.25   5949.0268          True\n",
      "2025-01-07        5827.04   5932.6917          True\n",
      "2025-01-08        5836.22   5956.4753          True\n"
     ]
    }
   ],
   "source": []
  }
 ],
 "metadata": {
  "kernelspec": {
   "display_name": "Python 3",
   "language": "python",
   "name": "python3"
  },
  "language_info": {
   "codemirror_mode": {
    "name": "ipython",
    "version": 3
   },
   "file_extension": ".py",
   "mimetype": "text/x-python",
   "name": "python",
   "nbconvert_exporter": "python",
   "pygments_lexer": "ipython3",
   "version": "3.13.4"
  }
 },
 "nbformat": 4,
 "nbformat_minor": 5
}
